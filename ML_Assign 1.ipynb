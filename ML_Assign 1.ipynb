{
  "cells": [
    {
      "cell_type": "markdown",
      "id": "9fa47041",
      "metadata": {
        "id": "9fa47041"
      },
      "source": [
        "# #Predict the price of the Uber ride from a given pickup point to the agreed drop-off location. Perform following tasks:\n",
        "1.\tPre-process the dataset.\n",
        "2.\tIdentify outliers.\n",
        "3.\tCheck the correlation.\n",
        "4.\tImplement linear regression and random forest regression models.\n",
        "5.\tEvaluate the models and compare their respective scores like R2, RMSE, etc. Dataset link: https://www.kaggle.com/datasets/yasserh/uber-fares-dataset\n"
      ]
    },
    {
      "cell_type": "code",
      "execution_count": null,
      "id": "8cf18579",
      "metadata": {
        "id": "8cf18579"
      },
      "outputs": [],
      "source": [
        "#Importing the required libraries\n",
        "import pandas as pd\n",
        "import numpy as np\n",
        "import seaborn as sns\n",
        "import matplotlib.pyplot as plt"
      ]
    },
    {
      "cell_type": "code",
      "execution_count": null,
      "id": "9785d23e",
      "metadata": {
        "id": "9785d23e"
      },
      "outputs": [],
      "source": [
        "#importing the dataset\n",
        "df  = pd.read_csv(\"uber.csv\")"
      ]
    },
    {
      "cell_type": "markdown",
      "id": "38ef68f5",
      "metadata": {
        "id": "38ef68f5"
      },
      "source": [
        "##  1.\tPre-process the dataset."
      ]
    },
    {
      "cell_type": "code",
      "execution_count": null,
      "id": "95a9241d",
      "metadata": {
        "id": "95a9241d",
        "outputId": "b1ce1be6-8fe5-44e2-b81a-9d194e80f606"
      },
      "outputs": [
        {
          "data": {
            "text/html": [
              "<div>\n",
              "<style scoped>\n",
              "    .dataframe tbody tr th:only-of-type {\n",
              "        vertical-align: middle;\n",
              "    }\n",
              "\n",
              "    .dataframe tbody tr th {\n",
              "        vertical-align: top;\n",
              "    }\n",
              "\n",
              "    .dataframe thead th {\n",
              "        text-align: right;\n",
              "    }\n",
              "</style>\n",
              "<table border=\"1\" class=\"dataframe\">\n",
              "  <thead>\n",
              "    <tr style=\"text-align: right;\">\n",
              "      <th></th>\n",
              "      <th>Unnamed: 0</th>\n",
              "      <th>key</th>\n",
              "      <th>fare_amount</th>\n",
              "      <th>pickup_datetime</th>\n",
              "      <th>pickup_longitude</th>\n",
              "      <th>pickup_latitude</th>\n",
              "      <th>dropoff_longitude</th>\n",
              "      <th>dropoff_latitude</th>\n",
              "      <th>passenger_count</th>\n",
              "    </tr>\n",
              "  </thead>\n",
              "  <tbody>\n",
              "    <tr>\n",
              "      <th>0</th>\n",
              "      <td>24238194</td>\n",
              "      <td>2015-05-07 19:52:06.0000003</td>\n",
              "      <td>7.5</td>\n",
              "      <td>2015-05-07 19:52:06 UTC</td>\n",
              "      <td>-73.999817</td>\n",
              "      <td>40.738354</td>\n",
              "      <td>-73.999512</td>\n",
              "      <td>40.723217</td>\n",
              "      <td>1</td>\n",
              "    </tr>\n",
              "    <tr>\n",
              "      <th>1</th>\n",
              "      <td>27835199</td>\n",
              "      <td>2009-07-17 20:04:56.0000002</td>\n",
              "      <td>7.7</td>\n",
              "      <td>2009-07-17 20:04:56 UTC</td>\n",
              "      <td>-73.994355</td>\n",
              "      <td>40.728225</td>\n",
              "      <td>-73.994710</td>\n",
              "      <td>40.750325</td>\n",
              "      <td>1</td>\n",
              "    </tr>\n",
              "    <tr>\n",
              "      <th>2</th>\n",
              "      <td>44984355</td>\n",
              "      <td>2009-08-24 21:45:00.00000061</td>\n",
              "      <td>12.9</td>\n",
              "      <td>2009-08-24 21:45:00 UTC</td>\n",
              "      <td>-74.005043</td>\n",
              "      <td>40.740770</td>\n",
              "      <td>-73.962565</td>\n",
              "      <td>40.772647</td>\n",
              "      <td>1</td>\n",
              "    </tr>\n",
              "    <tr>\n",
              "      <th>3</th>\n",
              "      <td>25894730</td>\n",
              "      <td>2009-06-26 08:22:21.0000001</td>\n",
              "      <td>5.3</td>\n",
              "      <td>2009-06-26 08:22:21 UTC</td>\n",
              "      <td>-73.976124</td>\n",
              "      <td>40.790844</td>\n",
              "      <td>-73.965316</td>\n",
              "      <td>40.803349</td>\n",
              "      <td>3</td>\n",
              "    </tr>\n",
              "    <tr>\n",
              "      <th>4</th>\n",
              "      <td>17610152</td>\n",
              "      <td>2014-08-28 17:47:00.000000188</td>\n",
              "      <td>16.0</td>\n",
              "      <td>2014-08-28 17:47:00 UTC</td>\n",
              "      <td>-73.925023</td>\n",
              "      <td>40.744085</td>\n",
              "      <td>-73.973082</td>\n",
              "      <td>40.761247</td>\n",
              "      <td>5</td>\n",
              "    </tr>\n",
              "  </tbody>\n",
              "</table>\n",
              "</div>"
            ],
            "text/plain": [
              "   Unnamed: 0                            key  fare_amount  \\\n",
              "0    24238194    2015-05-07 19:52:06.0000003          7.5   \n",
              "1    27835199    2009-07-17 20:04:56.0000002          7.7   \n",
              "2    44984355   2009-08-24 21:45:00.00000061         12.9   \n",
              "3    25894730    2009-06-26 08:22:21.0000001          5.3   \n",
              "4    17610152  2014-08-28 17:47:00.000000188         16.0   \n",
              "\n",
              "           pickup_datetime  pickup_longitude  pickup_latitude  \\\n",
              "0  2015-05-07 19:52:06 UTC        -73.999817        40.738354   \n",
              "1  2009-07-17 20:04:56 UTC        -73.994355        40.728225   \n",
              "2  2009-08-24 21:45:00 UTC        -74.005043        40.740770   \n",
              "3  2009-06-26 08:22:21 UTC        -73.976124        40.790844   \n",
              "4  2014-08-28 17:47:00 UTC        -73.925023        40.744085   \n",
              "\n",
              "   dropoff_longitude  dropoff_latitude  passenger_count  \n",
              "0         -73.999512         40.723217                1  \n",
              "1         -73.994710         40.750325                1  \n",
              "2         -73.962565         40.772647                1  \n",
              "3         -73.965316         40.803349                3  \n",
              "4         -73.973082         40.761247                5  "
            ]
          },
          "execution_count": 3,
          "metadata": {},
          "output_type": "execute_result"
        }
      ],
      "source": [
        "df.head()"
      ]
    },
    {
      "cell_type": "code",
      "execution_count": null,
      "id": "f2050540",
      "metadata": {
        "id": "f2050540",
        "outputId": "848daad5-815e-4b8f-fd93-5ba0c182d146"
      },
      "outputs": [
        {
          "name": "stdout",
          "output_type": "stream",
          "text": [
            "<class 'pandas.core.frame.DataFrame'>\n",
            "RangeIndex: 200000 entries, 0 to 199999\n",
            "Data columns (total 9 columns):\n",
            " #   Column             Non-Null Count   Dtype  \n",
            "---  ------             --------------   -----  \n",
            " 0   Unnamed: 0         200000 non-null  int64  \n",
            " 1   key                200000 non-null  object \n",
            " 2   fare_amount        200000 non-null  float64\n",
            " 3   pickup_datetime    200000 non-null  object \n",
            " 4   pickup_longitude   200000 non-null  float64\n",
            " 5   pickup_latitude    200000 non-null  float64\n",
            " 6   dropoff_longitude  199999 non-null  float64\n",
            " 7   dropoff_latitude   199999 non-null  float64\n",
            " 8   passenger_count    200000 non-null  int64  \n",
            "dtypes: float64(5), int64(2), object(2)\n",
            "memory usage: 13.7+ MB\n"
          ]
        }
      ],
      "source": [
        "df.info() #To get the required information of the dataset"
      ]
    },
    {
      "cell_type": "code",
      "execution_count": null,
      "id": "7a58d76d",
      "metadata": {
        "id": "7a58d76d",
        "outputId": "8805ddcb-2050-42d4-c633-10381bfa739e"
      },
      "outputs": [
        {
          "data": {
            "text/plain": [
              "Index(['Unnamed: 0', 'key', 'fare_amount', 'pickup_datetime',\n",
              "       'pickup_longitude', 'pickup_latitude', 'dropoff_longitude',\n",
              "       'dropoff_latitude', 'passenger_count'],\n",
              "      dtype='object')"
            ]
          },
          "execution_count": 5,
          "metadata": {},
          "output_type": "execute_result"
        }
      ],
      "source": [
        "df.columns #TO get number of columns in the dataset"
      ]
    },
    {
      "cell_type": "code",
      "execution_count": null,
      "id": "2b805dc7",
      "metadata": {
        "id": "2b805dc7"
      },
      "outputs": [],
      "source": [
        "df = df.drop(['Unnamed: 0', 'key'], axis= 1) #To drop unnamed column as it isn't required"
      ]
    },
    {
      "cell_type": "code",
      "execution_count": null,
      "id": "e98cae88",
      "metadata": {
        "id": "e98cae88",
        "outputId": "63700b4c-b530-4ddc-8e70-865261ddd7b6"
      },
      "outputs": [
        {
          "data": {
            "text/html": [
              "<div>\n",
              "<style scoped>\n",
              "    .dataframe tbody tr th:only-of-type {\n",
              "        vertical-align: middle;\n",
              "    }\n",
              "\n",
              "    .dataframe tbody tr th {\n",
              "        vertical-align: top;\n",
              "    }\n",
              "\n",
              "    .dataframe thead th {\n",
              "        text-align: right;\n",
              "    }\n",
              "</style>\n",
              "<table border=\"1\" class=\"dataframe\">\n",
              "  <thead>\n",
              "    <tr style=\"text-align: right;\">\n",
              "      <th></th>\n",
              "      <th>fare_amount</th>\n",
              "      <th>pickup_datetime</th>\n",
              "      <th>pickup_longitude</th>\n",
              "      <th>pickup_latitude</th>\n",
              "      <th>dropoff_longitude</th>\n",
              "      <th>dropoff_latitude</th>\n",
              "      <th>passenger_count</th>\n",
              "    </tr>\n",
              "  </thead>\n",
              "  <tbody>\n",
              "    <tr>\n",
              "      <th>0</th>\n",
              "      <td>7.5</td>\n",
              "      <td>2015-05-07 19:52:06 UTC</td>\n",
              "      <td>-73.999817</td>\n",
              "      <td>40.738354</td>\n",
              "      <td>-73.999512</td>\n",
              "      <td>40.723217</td>\n",
              "      <td>1</td>\n",
              "    </tr>\n",
              "    <tr>\n",
              "      <th>1</th>\n",
              "      <td>7.7</td>\n",
              "      <td>2009-07-17 20:04:56 UTC</td>\n",
              "      <td>-73.994355</td>\n",
              "      <td>40.728225</td>\n",
              "      <td>-73.994710</td>\n",
              "      <td>40.750325</td>\n",
              "      <td>1</td>\n",
              "    </tr>\n",
              "    <tr>\n",
              "      <th>2</th>\n",
              "      <td>12.9</td>\n",
              "      <td>2009-08-24 21:45:00 UTC</td>\n",
              "      <td>-74.005043</td>\n",
              "      <td>40.740770</td>\n",
              "      <td>-73.962565</td>\n",
              "      <td>40.772647</td>\n",
              "      <td>1</td>\n",
              "    </tr>\n",
              "    <tr>\n",
              "      <th>3</th>\n",
              "      <td>5.3</td>\n",
              "      <td>2009-06-26 08:22:21 UTC</td>\n",
              "      <td>-73.976124</td>\n",
              "      <td>40.790844</td>\n",
              "      <td>-73.965316</td>\n",
              "      <td>40.803349</td>\n",
              "      <td>3</td>\n",
              "    </tr>\n",
              "    <tr>\n",
              "      <th>4</th>\n",
              "      <td>16.0</td>\n",
              "      <td>2014-08-28 17:47:00 UTC</td>\n",
              "      <td>-73.925023</td>\n",
              "      <td>40.744085</td>\n",
              "      <td>-73.973082</td>\n",
              "      <td>40.761247</td>\n",
              "      <td>5</td>\n",
              "    </tr>\n",
              "  </tbody>\n",
              "</table>\n",
              "</div>"
            ],
            "text/plain": [
              "   fare_amount          pickup_datetime  pickup_longitude  pickup_latitude  \\\n",
              "0          7.5  2015-05-07 19:52:06 UTC        -73.999817        40.738354   \n",
              "1          7.7  2009-07-17 20:04:56 UTC        -73.994355        40.728225   \n",
              "2         12.9  2009-08-24 21:45:00 UTC        -74.005043        40.740770   \n",
              "3          5.3  2009-06-26 08:22:21 UTC        -73.976124        40.790844   \n",
              "4         16.0  2014-08-28 17:47:00 UTC        -73.925023        40.744085   \n",
              "\n",
              "   dropoff_longitude  dropoff_latitude  passenger_count  \n",
              "0         -73.999512         40.723217                1  \n",
              "1         -73.994710         40.750325                1  \n",
              "2         -73.962565         40.772647                1  \n",
              "3         -73.965316         40.803349                3  \n",
              "4         -73.973082         40.761247                5  "
            ]
          },
          "execution_count": 7,
          "metadata": {},
          "output_type": "execute_result"
        }
      ],
      "source": [
        "df.head()"
      ]
    },
    {
      "cell_type": "code",
      "execution_count": null,
      "id": "465258ab",
      "metadata": {
        "id": "465258ab",
        "outputId": "9d89737a-23ad-475d-a034-c28ab676ca3d"
      },
      "outputs": [
        {
          "data": {
            "text/plain": [
              "(200000, 7)"
            ]
          },
          "execution_count": 8,
          "metadata": {},
          "output_type": "execute_result"
        }
      ],
      "source": [
        "df.shape #To get the total (Rows,Columns)"
      ]
    },
    {
      "cell_type": "code",
      "execution_count": null,
      "id": "4abc8b91",
      "metadata": {
        "id": "4abc8b91",
        "outputId": "3fe5c928-d987-4165-e293-f00d7633483a"
      },
      "outputs": [
        {
          "data": {
            "text/plain": [
              "fare_amount          float64\n",
              "pickup_datetime       object\n",
              "pickup_longitude     float64\n",
              "pickup_latitude      float64\n",
              "dropoff_longitude    float64\n",
              "dropoff_latitude     float64\n",
              "passenger_count        int64\n",
              "dtype: object"
            ]
          },
          "execution_count": 9,
          "metadata": {},
          "output_type": "execute_result"
        }
      ],
      "source": [
        "df.dtypes #To get the type of each column"
      ]
    },
    {
      "cell_type": "code",
      "execution_count": null,
      "id": "28181a85",
      "metadata": {
        "id": "28181a85",
        "outputId": "a5cdb9c7-b16f-4907-9dd3-e07fb450c5b4"
      },
      "outputs": [
        {
          "name": "stdout",
          "output_type": "stream",
          "text": [
            "<class 'pandas.core.frame.DataFrame'>\n",
            "RangeIndex: 200000 entries, 0 to 199999\n",
            "Data columns (total 7 columns):\n",
            " #   Column             Non-Null Count   Dtype  \n",
            "---  ------             --------------   -----  \n",
            " 0   fare_amount        200000 non-null  float64\n",
            " 1   pickup_datetime    200000 non-null  object \n",
            " 2   pickup_longitude   200000 non-null  float64\n",
            " 3   pickup_latitude    200000 non-null  float64\n",
            " 4   dropoff_longitude  199999 non-null  float64\n",
            " 5   dropoff_latitude   199999 non-null  float64\n",
            " 6   passenger_count    200000 non-null  int64  \n",
            "dtypes: float64(5), int64(1), object(1)\n",
            "memory usage: 10.7+ MB\n"
          ]
        }
      ],
      "source": [
        "df.info()\n"
      ]
    },
    {
      "cell_type": "code",
      "execution_count": null,
      "id": "6b42caca",
      "metadata": {
        "id": "6b42caca",
        "outputId": "25f3a1d2-5c6e-4e6b-f3be-c2f5ffadcb3d"
      },
      "outputs": [
        {
          "data": {
            "text/html": [
              "<div>\n",
              "<style scoped>\n",
              "    .dataframe tbody tr th:only-of-type {\n",
              "        vertical-align: middle;\n",
              "    }\n",
              "\n",
              "    .dataframe tbody tr th {\n",
              "        vertical-align: top;\n",
              "    }\n",
              "\n",
              "    .dataframe thead th {\n",
              "        text-align: right;\n",
              "    }\n",
              "</style>\n",
              "<table border=\"1\" class=\"dataframe\">\n",
              "  <thead>\n",
              "    <tr style=\"text-align: right;\">\n",
              "      <th></th>\n",
              "      <th>fare_amount</th>\n",
              "      <th>pickup_longitude</th>\n",
              "      <th>pickup_latitude</th>\n",
              "      <th>dropoff_longitude</th>\n",
              "      <th>dropoff_latitude</th>\n",
              "      <th>passenger_count</th>\n",
              "    </tr>\n",
              "  </thead>\n",
              "  <tbody>\n",
              "    <tr>\n",
              "      <th>count</th>\n",
              "      <td>200000.000000</td>\n",
              "      <td>200000.000000</td>\n",
              "      <td>200000.000000</td>\n",
              "      <td>199999.000000</td>\n",
              "      <td>199999.000000</td>\n",
              "      <td>200000.000000</td>\n",
              "    </tr>\n",
              "    <tr>\n",
              "      <th>mean</th>\n",
              "      <td>11.359955</td>\n",
              "      <td>-72.527638</td>\n",
              "      <td>39.935885</td>\n",
              "      <td>-72.525292</td>\n",
              "      <td>39.923890</td>\n",
              "      <td>1.684535</td>\n",
              "    </tr>\n",
              "    <tr>\n",
              "      <th>std</th>\n",
              "      <td>9.901776</td>\n",
              "      <td>11.437787</td>\n",
              "      <td>7.720539</td>\n",
              "      <td>13.117408</td>\n",
              "      <td>6.794829</td>\n",
              "      <td>1.385997</td>\n",
              "    </tr>\n",
              "    <tr>\n",
              "      <th>min</th>\n",
              "      <td>-52.000000</td>\n",
              "      <td>-1340.648410</td>\n",
              "      <td>-74.015515</td>\n",
              "      <td>-3356.666300</td>\n",
              "      <td>-881.985513</td>\n",
              "      <td>0.000000</td>\n",
              "    </tr>\n",
              "    <tr>\n",
              "      <th>25%</th>\n",
              "      <td>6.000000</td>\n",
              "      <td>-73.992065</td>\n",
              "      <td>40.734796</td>\n",
              "      <td>-73.991407</td>\n",
              "      <td>40.733823</td>\n",
              "      <td>1.000000</td>\n",
              "    </tr>\n",
              "    <tr>\n",
              "      <th>50%</th>\n",
              "      <td>8.500000</td>\n",
              "      <td>-73.981823</td>\n",
              "      <td>40.752592</td>\n",
              "      <td>-73.980093</td>\n",
              "      <td>40.753042</td>\n",
              "      <td>1.000000</td>\n",
              "    </tr>\n",
              "    <tr>\n",
              "      <th>75%</th>\n",
              "      <td>12.500000</td>\n",
              "      <td>-73.967154</td>\n",
              "      <td>40.767158</td>\n",
              "      <td>-73.963658</td>\n",
              "      <td>40.768001</td>\n",
              "      <td>2.000000</td>\n",
              "    </tr>\n",
              "    <tr>\n",
              "      <th>max</th>\n",
              "      <td>499.000000</td>\n",
              "      <td>57.418457</td>\n",
              "      <td>1644.421482</td>\n",
              "      <td>1153.572603</td>\n",
              "      <td>872.697628</td>\n",
              "      <td>208.000000</td>\n",
              "    </tr>\n",
              "  </tbody>\n",
              "</table>\n",
              "</div>"
            ],
            "text/plain": [
              "         fare_amount  pickup_longitude  pickup_latitude  dropoff_longitude  \\\n",
              "count  200000.000000     200000.000000    200000.000000      199999.000000   \n",
              "mean       11.359955        -72.527638        39.935885         -72.525292   \n",
              "std         9.901776         11.437787         7.720539          13.117408   \n",
              "min       -52.000000      -1340.648410       -74.015515       -3356.666300   \n",
              "25%         6.000000        -73.992065        40.734796         -73.991407   \n",
              "50%         8.500000        -73.981823        40.752592         -73.980093   \n",
              "75%        12.500000        -73.967154        40.767158         -73.963658   \n",
              "max       499.000000         57.418457      1644.421482        1153.572603   \n",
              "\n",
              "       dropoff_latitude  passenger_count  \n",
              "count     199999.000000    200000.000000  \n",
              "mean          39.923890         1.684535  \n",
              "std            6.794829         1.385997  \n",
              "min         -881.985513         0.000000  \n",
              "25%           40.733823         1.000000  \n",
              "50%           40.753042         1.000000  \n",
              "75%           40.768001         2.000000  \n",
              "max          872.697628       208.000000  "
            ]
          },
          "execution_count": 11,
          "metadata": {},
          "output_type": "execute_result"
        }
      ],
      "source": [
        "df.describe() #To get statistics of each columns"
      ]
    },
    {
      "cell_type": "markdown",
      "id": "76d8c68b",
      "metadata": {
        "id": "76d8c68b"
      },
      "source": [
        "### Filling Missing values"
      ]
    },
    {
      "cell_type": "code",
      "execution_count": null,
      "id": "2cdecff4",
      "metadata": {
        "id": "2cdecff4",
        "outputId": "5b4da298-0a72-4084-88e7-030f11fbdeeb"
      },
      "outputs": [
        {
          "data": {
            "text/plain": [
              "fare_amount          0\n",
              "pickup_datetime      0\n",
              "pickup_longitude     0\n",
              "pickup_latitude      0\n",
              "dropoff_longitude    1\n",
              "dropoff_latitude     1\n",
              "passenger_count      0\n",
              "dtype: int64"
            ]
          },
          "execution_count": 12,
          "metadata": {},
          "output_type": "execute_result"
        }
      ],
      "source": [
        "df.isnull().sum()"
      ]
    },
    {
      "cell_type": "code",
      "execution_count": null,
      "id": "764a1207",
      "metadata": {
        "id": "764a1207"
      },
      "outputs": [],
      "source": [
        "df['dropoff_latitude'].fillna(value=df['dropoff_latitude'].mean(),inplace = True)\n",
        "df['dropoff_longitude'].fillna(value=df['dropoff_longitude'].median(),inplace = True)"
      ]
    },
    {
      "cell_type": "code",
      "execution_count": null,
      "id": "77e59aaa",
      "metadata": {
        "id": "77e59aaa",
        "outputId": "691f55cf-9e7e-4038-f291-e3c0de057837"
      },
      "outputs": [
        {
          "data": {
            "text/plain": [
              "fare_amount          0\n",
              "pickup_datetime      0\n",
              "pickup_longitude     0\n",
              "pickup_latitude      0\n",
              "dropoff_longitude    0\n",
              "dropoff_latitude     0\n",
              "passenger_count      0\n",
              "dtype: int64"
            ]
          },
          "execution_count": 14,
          "metadata": {},
          "output_type": "execute_result"
        }
      ],
      "source": [
        "df.isnull().sum()"
      ]
    },
    {
      "cell_type": "code",
      "execution_count": null,
      "id": "7fe577b7",
      "metadata": {
        "id": "7fe577b7",
        "outputId": "ae9a4c52-ea0d-4b90-99b4-754478c5cef5"
      },
      "outputs": [
        {
          "data": {
            "text/plain": [
              "fare_amount          float64\n",
              "pickup_datetime       object\n",
              "pickup_longitude     float64\n",
              "pickup_latitude      float64\n",
              "dropoff_longitude    float64\n",
              "dropoff_latitude     float64\n",
              "passenger_count        int64\n",
              "dtype: object"
            ]
          },
          "execution_count": 15,
          "metadata": {},
          "output_type": "execute_result"
        }
      ],
      "source": [
        "df.dtypes"
      ]
    },
    {
      "cell_type": "markdown",
      "id": "9ead348e",
      "metadata": {
        "id": "9ead348e"
      },
      "source": [
        "### Column pickup_datetime is in wrong format (Object). Convert it to DateTime Format"
      ]
    },
    {
      "cell_type": "code",
      "execution_count": null,
      "id": "83065d5c",
      "metadata": {
        "id": "83065d5c"
      },
      "outputs": [],
      "source": [
        "df.pickup_datetime = pd.to_datetime(df.pickup_datetime, errors='coerce')"
      ]
    },
    {
      "cell_type": "code",
      "execution_count": null,
      "id": "cb243df9",
      "metadata": {
        "id": "cb243df9",
        "outputId": "664e03f6-a872-47ce-a286-916d7b7b615a"
      },
      "outputs": [
        {
          "data": {
            "text/plain": [
              "fare_amount                      float64\n",
              "pickup_datetime      datetime64[ns, UTC]\n",
              "pickup_longitude                 float64\n",
              "pickup_latitude                  float64\n",
              "dropoff_longitude                float64\n",
              "dropoff_latitude                 float64\n",
              "passenger_count                    int64\n",
              "dtype: object"
            ]
          },
          "execution_count": 17,
          "metadata": {},
          "output_type": "execute_result"
        }
      ],
      "source": [
        "df.dtypes"
      ]
    },
    {
      "cell_type": "markdown",
      "id": "4e65531d",
      "metadata": {
        "id": "4e65531d"
      },
      "source": [
        "### To segregate each time of date and time"
      ]
    },
    {
      "cell_type": "code",
      "execution_count": null,
      "id": "8ab48d27",
      "metadata": {
        "id": "8ab48d27"
      },
      "outputs": [],
      "source": [
        "df= df.assign(hour = df.pickup_datetime.dt.hour,\n",
        "             day= df.pickup_datetime.dt.day,\n",
        "             month = df.pickup_datetime.dt.month,\n",
        "             year = df.pickup_datetime.dt.year,\n",
        "             dayofweek = df.pickup_datetime.dt.dayofweek)"
      ]
    },
    {
      "cell_type": "code",
      "execution_count": null,
      "id": "b71d05c5",
      "metadata": {
        "id": "b71d05c5",
        "outputId": "d3eed01e-17fd-473b-8945-980644f52a99"
      },
      "outputs": [
        {
          "data": {
            "text/html": [
              "<div>\n",
              "<style scoped>\n",
              "    .dataframe tbody tr th:only-of-type {\n",
              "        vertical-align: middle;\n",
              "    }\n",
              "\n",
              "    .dataframe tbody tr th {\n",
              "        vertical-align: top;\n",
              "    }\n",
              "\n",
              "    .dataframe thead th {\n",
              "        text-align: right;\n",
              "    }\n",
              "</style>\n",
              "<table border=\"1\" class=\"dataframe\">\n",
              "  <thead>\n",
              "    <tr style=\"text-align: right;\">\n",
              "      <th></th>\n",
              "      <th>fare_amount</th>\n",
              "      <th>pickup_datetime</th>\n",
              "      <th>pickup_longitude</th>\n",
              "      <th>pickup_latitude</th>\n",
              "      <th>dropoff_longitude</th>\n",
              "      <th>dropoff_latitude</th>\n",
              "      <th>passenger_count</th>\n",
              "      <th>hour</th>\n",
              "      <th>day</th>\n",
              "      <th>month</th>\n",
              "      <th>year</th>\n",
              "      <th>dayofweek</th>\n",
              "    </tr>\n",
              "  </thead>\n",
              "  <tbody>\n",
              "    <tr>\n",
              "      <th>0</th>\n",
              "      <td>7.5</td>\n",
              "      <td>2015-05-07 19:52:06+00:00</td>\n",
              "      <td>-73.999817</td>\n",
              "      <td>40.738354</td>\n",
              "      <td>-73.999512</td>\n",
              "      <td>40.723217</td>\n",
              "      <td>1</td>\n",
              "      <td>19</td>\n",
              "      <td>7</td>\n",
              "      <td>5</td>\n",
              "      <td>2015</td>\n",
              "      <td>3</td>\n",
              "    </tr>\n",
              "    <tr>\n",
              "      <th>1</th>\n",
              "      <td>7.7</td>\n",
              "      <td>2009-07-17 20:04:56+00:00</td>\n",
              "      <td>-73.994355</td>\n",
              "      <td>40.728225</td>\n",
              "      <td>-73.994710</td>\n",
              "      <td>40.750325</td>\n",
              "      <td>1</td>\n",
              "      <td>20</td>\n",
              "      <td>17</td>\n",
              "      <td>7</td>\n",
              "      <td>2009</td>\n",
              "      <td>4</td>\n",
              "    </tr>\n",
              "    <tr>\n",
              "      <th>2</th>\n",
              "      <td>12.9</td>\n",
              "      <td>2009-08-24 21:45:00+00:00</td>\n",
              "      <td>-74.005043</td>\n",
              "      <td>40.740770</td>\n",
              "      <td>-73.962565</td>\n",
              "      <td>40.772647</td>\n",
              "      <td>1</td>\n",
              "      <td>21</td>\n",
              "      <td>24</td>\n",
              "      <td>8</td>\n",
              "      <td>2009</td>\n",
              "      <td>0</td>\n",
              "    </tr>\n",
              "    <tr>\n",
              "      <th>3</th>\n",
              "      <td>5.3</td>\n",
              "      <td>2009-06-26 08:22:21+00:00</td>\n",
              "      <td>-73.976124</td>\n",
              "      <td>40.790844</td>\n",
              "      <td>-73.965316</td>\n",
              "      <td>40.803349</td>\n",
              "      <td>3</td>\n",
              "      <td>8</td>\n",
              "      <td>26</td>\n",
              "      <td>6</td>\n",
              "      <td>2009</td>\n",
              "      <td>4</td>\n",
              "    </tr>\n",
              "    <tr>\n",
              "      <th>4</th>\n",
              "      <td>16.0</td>\n",
              "      <td>2014-08-28 17:47:00+00:00</td>\n",
              "      <td>-73.925023</td>\n",
              "      <td>40.744085</td>\n",
              "      <td>-73.973082</td>\n",
              "      <td>40.761247</td>\n",
              "      <td>5</td>\n",
              "      <td>17</td>\n",
              "      <td>28</td>\n",
              "      <td>8</td>\n",
              "      <td>2014</td>\n",
              "      <td>3</td>\n",
              "    </tr>\n",
              "  </tbody>\n",
              "</table>\n",
              "</div>"
            ],
            "text/plain": [
              "   fare_amount           pickup_datetime  pickup_longitude  pickup_latitude  \\\n",
              "0          7.5 2015-05-07 19:52:06+00:00        -73.999817        40.738354   \n",
              "1          7.7 2009-07-17 20:04:56+00:00        -73.994355        40.728225   \n",
              "2         12.9 2009-08-24 21:45:00+00:00        -74.005043        40.740770   \n",
              "3          5.3 2009-06-26 08:22:21+00:00        -73.976124        40.790844   \n",
              "4         16.0 2014-08-28 17:47:00+00:00        -73.925023        40.744085   \n",
              "\n",
              "   dropoff_longitude  dropoff_latitude  passenger_count  hour  day  month  \\\n",
              "0         -73.999512         40.723217                1    19    7      5   \n",
              "1         -73.994710         40.750325                1    20   17      7   \n",
              "2         -73.962565         40.772647                1    21   24      8   \n",
              "3         -73.965316         40.803349                3     8   26      6   \n",
              "4         -73.973082         40.761247                5    17   28      8   \n",
              "\n",
              "   year  dayofweek  \n",
              "0  2015          3  \n",
              "1  2009          4  \n",
              "2  2009          0  \n",
              "3  2009          4  \n",
              "4  2014          3  "
            ]
          },
          "execution_count": 19,
          "metadata": {},
          "output_type": "execute_result"
        }
      ],
      "source": [
        "df.head()"
      ]
    },
    {
      "cell_type": "code",
      "execution_count": null,
      "id": "6a4c6fb6",
      "metadata": {
        "id": "6a4c6fb6"
      },
      "outputs": [],
      "source": [
        "# drop the column 'pickup_daetime' using drop()\n",
        "# 'axis = 1' drops the specified column\n",
        "\n",
        "df = df.drop('pickup_datetime',axis=1)\n"
      ]
    },
    {
      "cell_type": "code",
      "execution_count": null,
      "id": "ce586cd5",
      "metadata": {
        "id": "ce586cd5",
        "outputId": "e99c5703-bb7e-4df4-859d-079860e33ddd"
      },
      "outputs": [
        {
          "data": {
            "text/html": [
              "<div>\n",
              "<style scoped>\n",
              "    .dataframe tbody tr th:only-of-type {\n",
              "        vertical-align: middle;\n",
              "    }\n",
              "\n",
              "    .dataframe tbody tr th {\n",
              "        vertical-align: top;\n",
              "    }\n",
              "\n",
              "    .dataframe thead th {\n",
              "        text-align: right;\n",
              "    }\n",
              "</style>\n",
              "<table border=\"1\" class=\"dataframe\">\n",
              "  <thead>\n",
              "    <tr style=\"text-align: right;\">\n",
              "      <th></th>\n",
              "      <th>fare_amount</th>\n",
              "      <th>pickup_longitude</th>\n",
              "      <th>pickup_latitude</th>\n",
              "      <th>dropoff_longitude</th>\n",
              "      <th>dropoff_latitude</th>\n",
              "      <th>passenger_count</th>\n",
              "      <th>hour</th>\n",
              "      <th>day</th>\n",
              "      <th>month</th>\n",
              "      <th>year</th>\n",
              "      <th>dayofweek</th>\n",
              "    </tr>\n",
              "  </thead>\n",
              "  <tbody>\n",
              "    <tr>\n",
              "      <th>0</th>\n",
              "      <td>7.5</td>\n",
              "      <td>-73.999817</td>\n",
              "      <td>40.738354</td>\n",
              "      <td>-73.999512</td>\n",
              "      <td>40.723217</td>\n",
              "      <td>1</td>\n",
              "      <td>19</td>\n",
              "      <td>7</td>\n",
              "      <td>5</td>\n",
              "      <td>2015</td>\n",
              "      <td>3</td>\n",
              "    </tr>\n",
              "    <tr>\n",
              "      <th>1</th>\n",
              "      <td>7.7</td>\n",
              "      <td>-73.994355</td>\n",
              "      <td>40.728225</td>\n",
              "      <td>-73.994710</td>\n",
              "      <td>40.750325</td>\n",
              "      <td>1</td>\n",
              "      <td>20</td>\n",
              "      <td>17</td>\n",
              "      <td>7</td>\n",
              "      <td>2009</td>\n",
              "      <td>4</td>\n",
              "    </tr>\n",
              "    <tr>\n",
              "      <th>2</th>\n",
              "      <td>12.9</td>\n",
              "      <td>-74.005043</td>\n",
              "      <td>40.740770</td>\n",
              "      <td>-73.962565</td>\n",
              "      <td>40.772647</td>\n",
              "      <td>1</td>\n",
              "      <td>21</td>\n",
              "      <td>24</td>\n",
              "      <td>8</td>\n",
              "      <td>2009</td>\n",
              "      <td>0</td>\n",
              "    </tr>\n",
              "    <tr>\n",
              "      <th>3</th>\n",
              "      <td>5.3</td>\n",
              "      <td>-73.976124</td>\n",
              "      <td>40.790844</td>\n",
              "      <td>-73.965316</td>\n",
              "      <td>40.803349</td>\n",
              "      <td>3</td>\n",
              "      <td>8</td>\n",
              "      <td>26</td>\n",
              "      <td>6</td>\n",
              "      <td>2009</td>\n",
              "      <td>4</td>\n",
              "    </tr>\n",
              "    <tr>\n",
              "      <th>4</th>\n",
              "      <td>16.0</td>\n",
              "      <td>-73.925023</td>\n",
              "      <td>40.744085</td>\n",
              "      <td>-73.973082</td>\n",
              "      <td>40.761247</td>\n",
              "      <td>5</td>\n",
              "      <td>17</td>\n",
              "      <td>28</td>\n",
              "      <td>8</td>\n",
              "      <td>2014</td>\n",
              "      <td>3</td>\n",
              "    </tr>\n",
              "  </tbody>\n",
              "</table>\n",
              "</div>"
            ],
            "text/plain": [
              "   fare_amount  pickup_longitude  pickup_latitude  dropoff_longitude  \\\n",
              "0          7.5        -73.999817        40.738354         -73.999512   \n",
              "1          7.7        -73.994355        40.728225         -73.994710   \n",
              "2         12.9        -74.005043        40.740770         -73.962565   \n",
              "3          5.3        -73.976124        40.790844         -73.965316   \n",
              "4         16.0        -73.925023        40.744085         -73.973082   \n",
              "\n",
              "   dropoff_latitude  passenger_count  hour  day  month  year  dayofweek  \n",
              "0         40.723217                1    19    7      5  2015          3  \n",
              "1         40.750325                1    20   17      7  2009          4  \n",
              "2         40.772647                1    21   24      8  2009          0  \n",
              "3         40.803349                3     8   26      6  2009          4  \n",
              "4         40.761247                5    17   28      8  2014          3  "
            ]
          },
          "execution_count": 21,
          "metadata": {},
          "output_type": "execute_result"
        }
      ],
      "source": [
        "df.head()"
      ]
    },
    {
      "cell_type": "code",
      "execution_count": null,
      "id": "dd383ed2",
      "metadata": {
        "id": "dd383ed2",
        "outputId": "2afb9419-3d32-4876-f90e-87a14409f829"
      },
      "outputs": [
        {
          "data": {
            "text/plain": [
              "fare_amount          float64\n",
              "pickup_longitude     float64\n",
              "pickup_latitude      float64\n",
              "dropoff_longitude    float64\n",
              "dropoff_latitude     float64\n",
              "passenger_count        int64\n",
              "hour                   int64\n",
              "day                    int64\n",
              "month                  int64\n",
              "year                   int64\n",
              "dayofweek              int64\n",
              "dtype: object"
            ]
          },
          "execution_count": 22,
          "metadata": {},
          "output_type": "execute_result"
        }
      ],
      "source": [
        "df.dtypes"
      ]
    },
    {
      "cell_type": "markdown",
      "id": "862aaa86",
      "metadata": {
        "id": "862aaa86"
      },
      "source": [
        "## Checking outliers and filling them"
      ]
    },
    {
      "cell_type": "code",
      "execution_count": null,
      "id": "d02f34bc",
      "metadata": {
        "id": "d02f34bc",
        "outputId": "4432041b-1d49-4fa2-aa89-b70e3e6db04c"
      },
      "outputs": [
        {
          "data": {
            "text/plain": [
              "fare_amount             AxesSubplot(0.125,0.787927;0.352273x0.0920732)\n",
              "pickup_longitude     AxesSubplot(0.547727,0.787927;0.352273x0.0920732)\n",
              "pickup_latitude         AxesSubplot(0.125,0.677439;0.352273x0.0920732)\n",
              "dropoff_longitude    AxesSubplot(0.547727,0.677439;0.352273x0.0920732)\n",
              "dropoff_latitude        AxesSubplot(0.125,0.566951;0.352273x0.0920732)\n",
              "passenger_count      AxesSubplot(0.547727,0.566951;0.352273x0.0920732)\n",
              "hour                    AxesSubplot(0.125,0.456463;0.352273x0.0920732)\n",
              "day                  AxesSubplot(0.547727,0.456463;0.352273x0.0920732)\n",
              "month                   AxesSubplot(0.125,0.345976;0.352273x0.0920732)\n",
              "year                 AxesSubplot(0.547727,0.345976;0.352273x0.0920732)\n",
              "dayofweek               AxesSubplot(0.125,0.235488;0.352273x0.0920732)\n",
              "dtype: object"
            ]
          },
          "execution_count": 23,
          "metadata": {},
          "output_type": "execute_result"
        },
        {
          "data": {
            "image/png": "[encoded data removed]",
            "text/plain": [
              "<Figure size 1080x1440 with 14 Axes>"
            ]
          },
          "metadata": {
            "needs_background": "light"
          },
          "output_type": "display_data"
        }
      ],
      "source": [
        "df.plot(kind = \"box\",subplots = True,layout = (7,2),figsize=(15,20)) #Boxplot to check the outliers"
      ]
    },
    {
      "cell_type": "code",
      "execution_count": null,
      "id": "738b633b",
      "metadata": {
        "id": "738b633b"
      },
      "outputs": [],
      "source": [
        "#Using the InterQuartile Range to remove the values\n",
        "def remove_outlier(df1 , col):\n",
        "    Q1 = df1[col].quantile(0.25)\n",
        "    Q3 = df1[col].quantile(0.75)\n",
        "    IQR = Q3 - Q1\n",
        "    lower_whisker = Q1-1.5*IQR\n",
        "    upper_whisker = Q3+1.5*IQR\n",
        "    df[col] = np.clip(df1[col] , lower_whisker , upper_whisker)\n",
        "    return df1\n",
        "\n",
        "def treat_outliers_all(df1 , col_list):\n",
        "    for c in col_list:\n",
        "        df1 = remove_outlier(df , c)\n",
        "    return df1"
      ]
    },
    {
      "cell_type": "code",
      "execution_count": null,
      "id": "132161bd",
      "metadata": {
        "id": "132161bd"
      },
      "outputs": [],
      "source": [
        "df = treat_outliers_all(df , df.iloc[: , 0::])"
      ]
    },
    {
      "cell_type": "code",
      "execution_count": null,
      "id": "1080ca21",
      "metadata": {
        "id": "1080ca21",
        "outputId": "f9f1d4e3-5e4d-44cd-be35-33873056c023"
      },
      "outputs": [
        {
          "data": {
            "text/plain": [
              "fare_amount             AxesSubplot(0.125,0.787927;0.352273x0.0920732)\n",
              "pickup_longitude     AxesSubplot(0.547727,0.787927;0.352273x0.0920732)\n",
              "pickup_latitude         AxesSubplot(0.125,0.677439;0.352273x0.0920732)\n",
              "dropoff_longitude    AxesSubplot(0.547727,0.677439;0.352273x0.0920732)\n",
              "dropoff_latitude        AxesSubplot(0.125,0.566951;0.352273x0.0920732)\n",
              "passenger_count      AxesSubplot(0.547727,0.566951;0.352273x0.0920732)\n",
              "hour                    AxesSubplot(0.125,0.456463;0.352273x0.0920732)\n",
              "day                  AxesSubplot(0.547727,0.456463;0.352273x0.0920732)\n",
              "month                   AxesSubplot(0.125,0.345976;0.352273x0.0920732)\n",
              "year                 AxesSubplot(0.547727,0.345976;0.352273x0.0920732)\n",
              "dayofweek               AxesSubplot(0.125,0.235488;0.352273x0.0920732)\n",
              "dtype: object"
            ]
          },
          "execution_count": 26,
          "metadata": {},
          "output_type": "execute_result"
        },
        {
          "data": {
            "image/png": "[encoded data removed]",
            "text/plain": [
              "<Figure size 1080x1440 with 14 Axes>"
            ]
          },
          "metadata": {
            "needs_background": "light"
          },
          "output_type": "display_data"
        }
      ],
      "source": [
        "df.plot(kind = \"box\",subplots = True,layout = (7,2),figsize=(15,20)) #Boxplot shows that dataset is free from outliers"
      ]
    },
    {
      "cell_type": "code",
      "execution_count": null,
      "id": "f9042841",
      "metadata": {
        "id": "f9042841",
        "outputId": "e9afad5f-1d6e-48d1-95c4-74c04c586a1f"
      },
      "outputs": [
        {
          "name": "stderr",
          "output_type": "stream",
          "text": [
            "IOPub data rate exceeded.\n",
            "The notebook server will temporarily stop sending output\n",
            "to the client in order to avoid crashing it.\n",
            "To change this limit, set the config variable\n",
            "`--NotebookApp.iopub_data_rate_limit`.\n",
            "\n",
            "Current values:\n",
            "NotebookApp.iopub_data_rate_limit=1000000.0 (bytes/sec)\n",
            "NotebookApp.rate_limit_window=3.0 (secs)\n",
            "\n"
          ]
        },
        {
          "data": {
            "text/html": [
              "<div>\n",
              "<style scoped>\n",
              "    .dataframe tbody tr th:only-of-type {\n",
              "        vertical-align: middle;\n",
              "    }\n",
              "\n",
              "    .dataframe tbody tr th {\n",
              "        vertical-align: top;\n",
              "    }\n",
              "\n",
              "    .dataframe thead th {\n",
              "        text-align: right;\n",
              "    }\n",
              "</style>\n",
              "<table border=\"1\" class=\"dataframe\">\n",
              "  <thead>\n",
              "    <tr style=\"text-align: right;\">\n",
              "      <th></th>\n",
              "      <th>fare_amount</th>\n",
              "      <th>pickup_longitude</th>\n",
              "      <th>pickup_latitude</th>\n",
              "      <th>dropoff_longitude</th>\n",
              "      <th>dropoff_latitude</th>\n",
              "      <th>passenger_count</th>\n",
              "      <th>hour</th>\n",
              "      <th>day</th>\n",
              "      <th>month</th>\n",
              "      <th>year</th>\n",
              "      <th>dayofweek</th>\n",
              "      <th>dist_travel_km</th>\n",
              "    </tr>\n",
              "  </thead>\n",
              "  <tbody>\n",
              "    <tr>\n",
              "      <th>0</th>\n",
              "      <td>7.5</td>\n",
              "      <td>-73.999817</td>\n",
              "      <td>40.738354</td>\n",
              "      <td>-73.999512</td>\n",
              "      <td>40.723217</td>\n",
              "      <td>1.0</td>\n",
              "      <td>19</td>\n",
              "      <td>7</td>\n",
              "      <td>5</td>\n",
              "      <td>2015</td>\n",
              "      <td>3</td>\n",
              "      <td>1.683325</td>\n",
              "    </tr>\n",
              "    <tr>\n",
              "      <th>1</th>\n",
              "      <td>7.7</td>\n",
              "      <td>-73.994355</td>\n",
              "      <td>40.728225</td>\n",
              "      <td>-73.994710</td>\n",
              "      <td>40.750325</td>\n",
              "      <td>1.0</td>\n",
              "      <td>20</td>\n",
              "      <td>17</td>\n",
              "      <td>7</td>\n",
              "      <td>2009</td>\n",
              "      <td>4</td>\n",
              "      <td>2.457593</td>\n",
              "    </tr>\n",
              "    <tr>\n",
              "      <th>2</th>\n",
              "      <td>12.9</td>\n",
              "      <td>-74.005043</td>\n",
              "      <td>40.740770</td>\n",
              "      <td>-73.962565</td>\n",
              "      <td>40.772647</td>\n",
              "      <td>1.0</td>\n",
              "      <td>21</td>\n",
              "      <td>24</td>\n",
              "      <td>8</td>\n",
              "      <td>2009</td>\n",
              "      <td>0</td>\n",
              "      <td>5.036384</td>\n",
              "    </tr>\n",
              "    <tr>\n",
              "      <th>3</th>\n",
              "      <td>5.3</td>\n",
              "      <td>-73.976124</td>\n",
              "      <td>40.790844</td>\n",
              "      <td>-73.965316</td>\n",
              "      <td>40.803349</td>\n",
              "      <td>3.0</td>\n",
              "      <td>8</td>\n",
              "      <td>26</td>\n",
              "      <td>6</td>\n",
              "      <td>2009</td>\n",
              "      <td>4</td>\n",
              "      <td>1.661686</td>\n",
              "    </tr>\n",
              "    <tr>\n",
              "      <th>4</th>\n",
              "      <td>16.0</td>\n",
              "      <td>-73.929786</td>\n",
              "      <td>40.744085</td>\n",
              "      <td>-73.973082</td>\n",
              "      <td>40.761247</td>\n",
              "      <td>3.5</td>\n",
              "      <td>17</td>\n",
              "      <td>28</td>\n",
              "      <td>8</td>\n",
              "      <td>2014</td>\n",
              "      <td>3</td>\n",
              "      <td>4.116088</td>\n",
              "    </tr>\n",
              "  </tbody>\n",
              "</table>\n",
              "</div>"
            ],
            "text/plain": [
              "   fare_amount  pickup_longitude  pickup_latitude  dropoff_longitude  \\\n",
              "0          7.5        -73.999817        40.738354         -73.999512   \n",
              "1          7.7        -73.994355        40.728225         -73.994710   \n",
              "2         12.9        -74.005043        40.740770         -73.962565   \n",
              "3          5.3        -73.976124        40.790844         -73.965316   \n",
              "4         16.0        -73.929786        40.744085         -73.973082   \n",
              "\n",
              "   dropoff_latitude  passenger_count  hour  day  month  year  dayofweek  \\\n",
              "0         40.723217              1.0    19    7      5  2015          3   \n",
              "1         40.750325              1.0    20   17      7  2009          4   \n",
              "2         40.772647              1.0    21   24      8  2009          0   \n",
              "3         40.803349              3.0     8   26      6  2009          4   \n",
              "4         40.761247              3.5    17   28      8  2014          3   \n",
              "\n",
              "   dist_travel_km  \n",
              "0        1.683325  \n",
              "1        2.457593  \n",
              "2        5.036384  \n",
              "3        1.661686  \n",
              "4        4.116088  "
            ]
          },
          "execution_count": 27,
          "metadata": {},
          "output_type": "execute_result"
        }
      ],
      "source": [
        "#pip install haversine\n",
        "import haversine as hs  #Calculate the distance using Haversine to calculate the distance between to points. Can't use Eucladian as it is for flat surface.\n",
        "travel_dist = []\n",
        "for pos in range(len(df['pickup_longitude'])):\n",
        "        long1,lati1,long2,lati2 = [df['pickup_longitude'][pos],df['pickup_latitude'][pos],df['dropoff_longitude'][pos],df['dropoff_latitude'][pos]]\n",
        "        loc1=(lati1,long1)\n",
        "        loc2=(lati2,long2)\n",
        "        c = hs.haversine(loc1,loc2)\n",
        "        travel_dist.append(c)\n",
        "\n",
        "print(travel_dist)\n",
        "df['dist_travel_km'] = travel_dist\n",
        "df.head()"
      ]
    },
    {
      "cell_type": "code",
      "execution_count": null,
      "id": "a8fc9d86",
      "metadata": {
        "id": "a8fc9d86",
        "outputId": "1a9e512e-c545-412e-dc54-5318e5eaa2a6"
      },
      "outputs": [
        {
          "name": "stdout",
          "output_type": "stream",
          "text": [
            "Remaining observastions in the dataset: (200000, 12)\n"
          ]
        }
      ],
      "source": [
        "#Uber doesn't travel over 130 kms so minimize the distance\n",
        "df= df.loc[(df.dist_travel_km >= 1) | (df.dist_travel_km <= 130)]\n",
        "print(\"Remaining observastions in the dataset:\", df.shape)"
      ]
    },
    {
      "cell_type": "code",
      "execution_count": null,
      "id": "65573111",
      "metadata": {
        "id": "65573111"
      },
      "outputs": [],
      "source": [
        "#Finding inccorect latitude (Less than or greater than 90) and longitude (greater than or less than 180)\n",
        "incorrect_coordinates = df.loc[(df.pickup_latitude > 90) |(df.pickup_latitude < -90) |\n",
        "                                   (df.dropoff_latitude > 90) |(df.dropoff_latitude < -90) |\n",
        "                                   (df.pickup_longitude > 180) |(df.pickup_longitude < -180) |\n",
        "                                   (df.dropoff_longitude > 90) |(df.dropoff_longitude < -90)\n",
        "                                    ]"
      ]
    },
    {
      "cell_type": "code",
      "execution_count": null,
      "id": "f7afb6fb",
      "metadata": {
        "id": "f7afb6fb"
      },
      "outputs": [],
      "source": [
        "df.drop(incorrect_coordinates, inplace = True, errors = 'ignore')"
      ]
    },
    {
      "cell_type": "code",
      "execution_count": null,
      "id": "acbaa382",
      "metadata": {
        "id": "acbaa382",
        "outputId": "c7649752-f75a-41fc-aaed-699e1dc296ce"
      },
      "outputs": [
        {
          "data": {
            "text/html": [
              "<div>\n",
              "<style scoped>\n",
              "    .dataframe tbody tr th:only-of-type {\n",
              "        vertical-align: middle;\n",
              "    }\n",
              "\n",
              "    .dataframe tbody tr th {\n",
              "        vertical-align: top;\n",
              "    }\n",
              "\n",
              "    .dataframe thead th {\n",
              "        text-align: right;\n",
              "    }\n",
              "</style>\n",
              "<table border=\"1\" class=\"dataframe\">\n",
              "  <thead>\n",
              "    <tr style=\"text-align: right;\">\n",
              "      <th></th>\n",
              "      <th>fare_amount</th>\n",
              "      <th>pickup_longitude</th>\n",
              "      <th>pickup_latitude</th>\n",
              "      <th>dropoff_longitude</th>\n",
              "      <th>dropoff_latitude</th>\n",
              "      <th>passenger_count</th>\n",
              "      <th>hour</th>\n",
              "      <th>day</th>\n",
              "      <th>month</th>\n",
              "      <th>year</th>\n",
              "      <th>dayofweek</th>\n",
              "      <th>dist_travel_km</th>\n",
              "    </tr>\n",
              "  </thead>\n",
              "  <tbody>\n",
              "    <tr>\n",
              "      <th>0</th>\n",
              "      <td>7.5</td>\n",
              "      <td>-73.999817</td>\n",
              "      <td>40.738354</td>\n",
              "      <td>-73.999512</td>\n",
              "      <td>40.723217</td>\n",
              "      <td>1.0</td>\n",
              "      <td>19</td>\n",
              "      <td>7</td>\n",
              "      <td>5</td>\n",
              "      <td>2015</td>\n",
              "      <td>3</td>\n",
              "      <td>1.683325</td>\n",
              "    </tr>\n",
              "    <tr>\n",
              "      <th>1</th>\n",
              "      <td>7.7</td>\n",
              "      <td>-73.994355</td>\n",
              "      <td>40.728225</td>\n",
              "      <td>-73.994710</td>\n",
              "      <td>40.750325</td>\n",
              "      <td>1.0</td>\n",
              "      <td>20</td>\n",
              "      <td>17</td>\n",
              "      <td>7</td>\n",
              "      <td>2009</td>\n",
              "      <td>4</td>\n",
              "      <td>2.457593</td>\n",
              "    </tr>\n",
              "    <tr>\n",
              "      <th>2</th>\n",
              "      <td>12.9</td>\n",
              "      <td>-74.005043</td>\n",
              "      <td>40.740770</td>\n",
              "      <td>-73.962565</td>\n",
              "      <td>40.772647</td>\n",
              "      <td>1.0</td>\n",
              "      <td>21</td>\n",
              "      <td>24</td>\n",
              "      <td>8</td>\n",
              "      <td>2009</td>\n",
              "      <td>0</td>\n",
              "      <td>5.036384</td>\n",
              "    </tr>\n",
              "    <tr>\n",
              "      <th>3</th>\n",
              "      <td>5.3</td>\n",
              "      <td>-73.976124</td>\n",
              "      <td>40.790844</td>\n",
              "      <td>-73.965316</td>\n",
              "      <td>40.803349</td>\n",
              "      <td>3.0</td>\n",
              "      <td>8</td>\n",
              "      <td>26</td>\n",
              "      <td>6</td>\n",
              "      <td>2009</td>\n",
              "      <td>4</td>\n",
              "      <td>1.661686</td>\n",
              "    </tr>\n",
              "    <tr>\n",
              "      <th>4</th>\n",
              "      <td>16.0</td>\n",
              "      <td>-73.929786</td>\n",
              "      <td>40.744085</td>\n",
              "      <td>-73.973082</td>\n",
              "      <td>40.761247</td>\n",
              "      <td>3.5</td>\n",
              "      <td>17</td>\n",
              "      <td>28</td>\n",
              "      <td>8</td>\n",
              "      <td>2014</td>\n",
              "      <td>3</td>\n",
              "      <td>4.116088</td>\n",
              "    </tr>\n",
              "  </tbody>\n",
              "</table>\n",
              "</div>"
            ],
            "text/plain": [
              "   fare_amount  pickup_longitude  pickup_latitude  dropoff_longitude  \\\n",
              "0          7.5        -73.999817        40.738354         -73.999512   \n",
              "1          7.7        -73.994355        40.728225         -73.994710   \n",
              "2         12.9        -74.005043        40.740770         -73.962565   \n",
              "3          5.3        -73.976124        40.790844         -73.965316   \n",
              "4         16.0        -73.929786        40.744085         -73.973082   \n",
              "\n",
              "   dropoff_latitude  passenger_count  hour  day  month  year  dayofweek  \\\n",
              "0         40.723217              1.0    19    7      5  2015          3   \n",
              "1         40.750325              1.0    20   17      7  2009          4   \n",
              "2         40.772647              1.0    21   24      8  2009          0   \n",
              "3         40.803349              3.0     8   26      6  2009          4   \n",
              "4         40.761247              3.5    17   28      8  2014          3   \n",
              "\n",
              "   dist_travel_km  \n",
              "0        1.683325  \n",
              "1        2.457593  \n",
              "2        5.036384  \n",
              "3        1.661686  \n",
              "4        4.116088  "
            ]
          },
          "execution_count": 31,
          "metadata": {},
          "output_type": "execute_result"
        }
      ],
      "source": [
        "df.head()"
      ]
    },
    {
      "cell_type": "code",
      "execution_count": null,
      "id": "75be700d",
      "metadata": {
        "id": "75be700d",
        "outputId": "c98ef79b-6fdd-4c33-a085-7ab2dcff133d"
      },
      "outputs": [
        {
          "data": {
            "text/plain": [
              "fare_amount          0\n",
              "pickup_longitude     0\n",
              "pickup_latitude      0\n",
              "dropoff_longitude    0\n",
              "dropoff_latitude     0\n",
              "passenger_count      0\n",
              "hour                 0\n",
              "day                  0\n",
              "month                0\n",
              "year                 0\n",
              "dayofweek            0\n",
              "dist_travel_km       0\n",
              "dtype: int64"
            ]
          },
          "execution_count": 32,
          "metadata": {},
          "output_type": "execute_result"
        }
      ],
      "source": [
        "df.isnull().sum()"
      ]
    },
    {
      "cell_type": "code",
      "execution_count": null,
      "id": "b69d9d57",
      "metadata": {
        "id": "b69d9d57",
        "outputId": "8c6c1b24-e778-43ba-afa2-31b28c5a07cc"
      },
      "outputs": [
        {
          "data": {
            "text/plain": [
              "<AxesSubplot:>"
            ]
          },
          "execution_count": 33,
          "metadata": {},
          "output_type": "execute_result"
        },
        {
          "data": {
            "image/png": "[encoded data removed]",
            "text/plain": [
              "<Figure size 432x288 with 2 Axes>"
            ]
          },
          "metadata": {
            "needs_background": "light"
          },
          "output_type": "display_data"
        }
      ],
      "source": [
        "sns.heatmap(df.isnull()) #Free for null values"
      ]
    },
    {
      "cell_type": "code",
      "execution_count": null,
      "id": "03aee8fb",
      "metadata": {
        "id": "03aee8fb"
      },
      "outputs": [],
      "source": [
        "corr = df.corr() #Function to find the correlation"
      ]
    },
    {
      "cell_type": "code",
      "execution_count": null,
      "id": "6f748085",
      "metadata": {
        "id": "6f748085",
        "outputId": "0df187ef-2c39-4979-8fb5-7b8250ac6464"
      },
      "outputs": [
        {
          "data": {
            "text/html": [
              "<div>\n",
              "<style scoped>\n",
              "    .dataframe tbody tr th:only-of-type {\n",
              "        vertical-align: middle;\n",
              "    }\n",
              "\n",
              "    .dataframe tbody tr th {\n",
              "        vertical-align: top;\n",
              "    }\n",
              "\n",
              "    .dataframe thead th {\n",
              "        text-align: right;\n",
              "    }\n",
              "</style>\n",
              "<table border=\"1\" class=\"dataframe\">\n",
              "  <thead>\n",
              "    <tr style=\"text-align: right;\">\n",
              "      <th></th>\n",
              "      <th>fare_amount</th>\n",
              "      <th>pickup_longitude</th>\n",
              "      <th>pickup_latitude</th>\n",
              "      <th>dropoff_longitude</th>\n",
              "      <th>dropoff_latitude</th>\n",
              "      <th>passenger_count</th>\n",
              "      <th>hour</th>\n",
              "      <th>day</th>\n",
              "      <th>month</th>\n",
              "      <th>year</th>\n",
              "      <th>dayofweek</th>\n",
              "      <th>dist_travel_km</th>\n",
              "    </tr>\n",
              "  </thead>\n",
              "  <tbody>\n",
              "    <tr>\n",
              "      <th>fare_amount</th>\n",
              "      <td>1.000000</td>\n",
              "      <td>0.154069</td>\n",
              "      <td>-0.110842</td>\n",
              "      <td>0.218675</td>\n",
              "      <td>-0.125898</td>\n",
              "      <td>0.015778</td>\n",
              "      <td>-0.023623</td>\n",
              "      <td>0.004534</td>\n",
              "      <td>0.030817</td>\n",
              "      <td>0.141277</td>\n",
              "      <td>0.013652</td>\n",
              "      <td>0.786385</td>\n",
              "    </tr>\n",
              "    <tr>\n",
              "      <th>pickup_longitude</th>\n",
              "      <td>0.154069</td>\n",
              "      <td>1.000000</td>\n",
              "      <td>0.259497</td>\n",
              "      <td>0.425619</td>\n",
              "      <td>0.073290</td>\n",
              "      <td>-0.013213</td>\n",
              "      <td>0.011579</td>\n",
              "      <td>-0.003204</td>\n",
              "      <td>0.001169</td>\n",
              "      <td>0.010198</td>\n",
              "      <td>-0.024652</td>\n",
              "      <td>0.048446</td>\n",
              "    </tr>\n",
              "    <tr>\n",
              "      <th>pickup_latitude</th>\n",
              "      <td>-0.110842</td>\n",
              "      <td>0.259497</td>\n",
              "      <td>1.000000</td>\n",
              "      <td>0.048889</td>\n",
              "      <td>0.515714</td>\n",
              "      <td>-0.012889</td>\n",
              "      <td>0.029681</td>\n",
              "      <td>-0.001553</td>\n",
              "      <td>0.001562</td>\n",
              "      <td>-0.014243</td>\n",
              "      <td>-0.042310</td>\n",
              "      <td>-0.073362</td>\n",
              "    </tr>\n",
              "    <tr>\n",
              "      <th>dropoff_longitude</th>\n",
              "      <td>0.218675</td>\n",
              "      <td>0.425619</td>\n",
              "      <td>0.048889</td>\n",
              "      <td>1.000000</td>\n",
              "      <td>0.245667</td>\n",
              "      <td>-0.009303</td>\n",
              "      <td>-0.046558</td>\n",
              "      <td>-0.004007</td>\n",
              "      <td>0.002391</td>\n",
              "      <td>0.011346</td>\n",
              "      <td>-0.003336</td>\n",
              "      <td>0.155191</td>\n",
              "    </tr>\n",
              "    <tr>\n",
              "      <th>dropoff_latitude</th>\n",
              "      <td>-0.125898</td>\n",
              "      <td>0.073290</td>\n",
              "      <td>0.515714</td>\n",
              "      <td>0.245667</td>\n",
              "      <td>1.000000</td>\n",
              "      <td>-0.006308</td>\n",
              "      <td>0.019783</td>\n",
              "      <td>-0.003479</td>\n",
              "      <td>-0.001193</td>\n",
              "      <td>-0.009603</td>\n",
              "      <td>-0.031919</td>\n",
              "      <td>-0.052701</td>\n",
              "    </tr>\n",
              "    <tr>\n",
              "      <th>passenger_count</th>\n",
              "      <td>0.015778</td>\n",
              "      <td>-0.013213</td>\n",
              "      <td>-0.012889</td>\n",
              "      <td>-0.009303</td>\n",
              "      <td>-0.006308</td>\n",
              "      <td>1.000000</td>\n",
              "      <td>0.020274</td>\n",
              "      <td>0.002712</td>\n",
              "      <td>0.010351</td>\n",
              "      <td>-0.009749</td>\n",
              "      <td>0.048550</td>\n",
              "      <td>0.009884</td>\n",
              "    </tr>\n",
              "    <tr>\n",
              "      <th>hour</th>\n",
              "      <td>-0.023623</td>\n",
              "      <td>0.011579</td>\n",
              "      <td>0.029681</td>\n",
              "      <td>-0.046558</td>\n",
              "      <td>0.019783</td>\n",
              "      <td>0.020274</td>\n",
              "      <td>1.000000</td>\n",
              "      <td>0.004677</td>\n",
              "      <td>-0.003926</td>\n",
              "      <td>0.002156</td>\n",
              "      <td>-0.086947</td>\n",
              "      <td>-0.035708</td>\n",
              "    </tr>\n",
              "    <tr>\n",
              "      <th>day</th>\n",
              "      <td>0.004534</td>\n",
              "      <td>-0.003204</td>\n",
              "      <td>-0.001553</td>\n",
              "      <td>-0.004007</td>\n",
              "      <td>-0.003479</td>\n",
              "      <td>0.002712</td>\n",
              "      <td>0.004677</td>\n",
              "      <td>1.000000</td>\n",
              "      <td>-0.017360</td>\n",
              "      <td>-0.012170</td>\n",
              "      <td>0.005617</td>\n",
              "      <td>0.001709</td>\n",
              "    </tr>\n",
              "    <tr>\n",
              "      <th>month</th>\n",
              "      <td>0.030817</td>\n",
              "      <td>0.001169</td>\n",
              "      <td>0.001562</td>\n",
              "      <td>0.002391</td>\n",
              "      <td>-0.001193</td>\n",
              "      <td>0.010351</td>\n",
              "      <td>-0.003926</td>\n",
              "      <td>-0.017360</td>\n",
              "      <td>1.000000</td>\n",
              "      <td>-0.115859</td>\n",
              "      <td>-0.008786</td>\n",
              "      <td>0.010050</td>\n",
              "    </tr>\n",
              "    <tr>\n",
              "      <th>year</th>\n",
              "      <td>0.141277</td>\n",
              "      <td>0.010198</td>\n",
              "      <td>-0.014243</td>\n",
              "      <td>0.011346</td>\n",
              "      <td>-0.009603</td>\n",
              "      <td>-0.009749</td>\n",
              "      <td>0.002156</td>\n",
              "      <td>-0.012170</td>\n",
              "      <td>-0.115859</td>\n",
              "      <td>1.000000</td>\n",
              "      <td>0.006113</td>\n",
              "      <td>0.022294</td>\n",
              "    </tr>\n",
              "    <tr>\n",
              "      <th>dayofweek</th>\n",
              "      <td>0.013652</td>\n",
              "      <td>-0.024652</td>\n",
              "      <td>-0.042310</td>\n",
              "      <td>-0.003336</td>\n",
              "      <td>-0.031919</td>\n",
              "      <td>0.048550</td>\n",
              "      <td>-0.086947</td>\n",
              "      <td>0.005617</td>\n",
              "      <td>-0.008786</td>\n",
              "      <td>0.006113</td>\n",
              "      <td>1.000000</td>\n",
              "      <td>0.030382</td>\n",
              "    </tr>\n",
              "    <tr>\n",
              "      <th>dist_travel_km</th>\n",
              "      <td>0.786385</td>\n",
              "      <td>0.048446</td>\n",
              "      <td>-0.073362</td>\n",
              "      <td>0.155191</td>\n",
              "      <td>-0.052701</td>\n",
              "      <td>0.009884</td>\n",
              "      <td>-0.035708</td>\n",
              "      <td>0.001709</td>\n",
              "      <td>0.010050</td>\n",
              "      <td>0.022294</td>\n",
              "      <td>0.030382</td>\n",
              "      <td>1.000000</td>\n",
              "    </tr>\n",
              "  </tbody>\n",
              "</table>\n",
              "</div>"
            ],
            "text/plain": [
              "                   fare_amount  pickup_longitude  pickup_latitude  \\\n",
              "fare_amount           1.000000          0.154069        -0.110842   \n",
              "pickup_longitude      0.154069          1.000000         0.259497   \n",
              "pickup_latitude      -0.110842          0.259497         1.000000   \n",
              "dropoff_longitude     0.218675          0.425619         0.048889   \n",
              "dropoff_latitude     -0.125898          0.073290         0.515714   \n",
              "passenger_count       0.015778         -0.013213        -0.012889   \n",
              "hour                 -0.023623          0.011579         0.029681   \n",
              "day                   0.004534         -0.003204        -0.001553   \n",
              "month                 0.030817          0.001169         0.001562   \n",
              "year                  0.141277          0.010198        -0.014243   \n",
              "dayofweek             0.013652         -0.024652        -0.042310   \n",
              "dist_travel_km        0.786385          0.048446        -0.073362   \n",
              "\n",
              "                   dropoff_longitude  dropoff_latitude  passenger_count  \\\n",
              "fare_amount                 0.218675         -0.125898         0.015778   \n",
              "pickup_longitude            0.425619          0.073290        -0.013213   \n",
              "pickup_latitude             0.048889          0.515714        -0.012889   \n",
              "dropoff_longitude           1.000000          0.245667        -0.009303   \n",
              "dropoff_latitude            0.245667          1.000000        -0.006308   \n",
              "passenger_count            -0.009303         -0.006308         1.000000   \n",
              "hour                       -0.046558          0.019783         0.020274   \n",
              "day                        -0.004007         -0.003479         0.002712   \n",
              "month                       0.002391         -0.001193         0.010351   \n",
              "year                        0.011346         -0.009603        -0.009749   \n",
              "dayofweek                  -0.003336         -0.031919         0.048550   \n",
              "dist_travel_km              0.155191         -0.052701         0.009884   \n",
              "\n",
              "                       hour       day     month      year  dayofweek  \\\n",
              "fare_amount       -0.023623  0.004534  0.030817  0.141277   0.013652   \n",
              "pickup_longitude   0.011579 -0.003204  0.001169  0.010198  -0.024652   \n",
              "pickup_latitude    0.029681 -0.001553  0.001562 -0.014243  -0.042310   \n",
              "dropoff_longitude -0.046558 -0.004007  0.002391  0.011346  -0.003336   \n",
              "dropoff_latitude   0.019783 -0.003479 -0.001193 -0.009603  -0.031919   \n",
              "passenger_count    0.020274  0.002712  0.010351 -0.009749   0.048550   \n",
              "hour               1.000000  0.004677 -0.003926  0.002156  -0.086947   \n",
              "day                0.004677  1.000000 -0.017360 -0.012170   0.005617   \n",
              "month             -0.003926 -0.017360  1.000000 -0.115859  -0.008786   \n",
              "year               0.002156 -0.012170 -0.115859  1.000000   0.006113   \n",
              "dayofweek         -0.086947  0.005617 -0.008786  0.006113   1.000000   \n",
              "dist_travel_km    -0.035708  0.001709  0.010050  0.022294   0.030382   \n",
              "\n",
              "                   dist_travel_km  \n",
              "fare_amount              0.786385  \n",
              "pickup_longitude         0.048446  \n",
              "pickup_latitude         -0.073362  \n",
              "dropoff_longitude        0.155191  \n",
              "dropoff_latitude        -0.052701  \n",
              "passenger_count          0.009884  \n",
              "hour                    -0.035708  \n",
              "day                      0.001709  \n",
              "month                    0.010050  \n",
              "year                     0.022294  \n",
              "dayofweek                0.030382  \n",
              "dist_travel_km           1.000000  "
            ]
          },
          "execution_count": 35,
          "metadata": {},
          "output_type": "execute_result"
        }
      ],
      "source": [
        "corr"
      ]
    },
    {
      "cell_type": "code",
      "execution_count": null,
      "id": "379a2944",
      "metadata": {
        "id": "379a2944",
        "outputId": "613e0088-b115-4fef-9265-e36264a34ffa"
      },
      "outputs": [
        {
          "data": {
            "text/plain": [
              "<AxesSubplot:>"
            ]
          },
          "execution_count": 36,
          "metadata": {},
          "output_type": "execute_result"
        },
        {
          "data": {
            "image/png": "[encoded data removed]",
            "text/plain": [
              "<Figure size 720x432 with 2 Axes>"
            ]
          },
          "metadata": {
            "needs_background": "light"
          },
          "output_type": "display_data"
        }
      ],
      "source": [
        "fig,axis = plt.subplots(figsize = (10,6))\n",
        "sns.heatmap(df.corr(),annot = True) #Correlation Heatmap (Light values means highly correlated)"
      ]
    },
    {
      "cell_type": "markdown",
      "id": "147b7204",
      "metadata": {
        "id": "147b7204"
      },
      "source": [
        "### Dividing the dataset into feature and target values"
      ]
    },
    {
      "cell_type": "code",
      "execution_count": null,
      "id": "dcbe11f4",
      "metadata": {
        "id": "dcbe11f4"
      },
      "outputs": [],
      "source": [
        "x = df[['pickup_longitude','pickup_latitude','dropoff_longitude','dropoff_latitude','passenger_count','hour','day','month','year','dayofweek','dist_travel_km']]"
      ]
    },
    {
      "cell_type": "code",
      "execution_count": null,
      "id": "374ad33e",
      "metadata": {
        "id": "374ad33e"
      },
      "outputs": [],
      "source": [
        "y = df['fare_amount']"
      ]
    },
    {
      "cell_type": "markdown",
      "id": "271b0ada",
      "metadata": {
        "id": "271b0ada"
      },
      "source": [
        "### Dividing the dataset into training and testing dataset"
      ]
    },
    {
      "cell_type": "code",
      "execution_count": null,
      "id": "531acc39",
      "metadata": {
        "id": "531acc39"
      },
      "outputs": [],
      "source": [
        "from sklearn.model_selection import train_test_split\n",
        "X_train,X_test,y_train,y_test = train_test_split(x,y,test_size = 0.33)"
      ]
    },
    {
      "cell_type": "markdown",
      "id": "50cb63a2",
      "metadata": {
        "id": "50cb63a2"
      },
      "source": [
        "### Linear Regression"
      ]
    },
    {
      "cell_type": "code",
      "execution_count": null,
      "id": "e7832a2a",
      "metadata": {
        "id": "e7832a2a"
      },
      "outputs": [],
      "source": [
        "from sklearn.linear_model import LinearRegression\n",
        "regression = LinearRegression()"
      ]
    },
    {
      "cell_type": "code",
      "execution_count": null,
      "id": "250424f0",
      "metadata": {
        "id": "250424f0",
        "outputId": "b15543e7-3ccb-4664-b733-72bce4a1b2da"
      },
      "outputs": [
        {
          "data": {
            "text/plain": [
              "LinearRegression()"
            ]
          },
          "execution_count": 186,
          "metadata": {},
          "output_type": "execute_result"
        }
      ],
      "source": [
        "regression.fit(X_train,y_train)"
      ]
    },
    {
      "cell_type": "code",
      "execution_count": null,
      "id": "20e68d88",
      "metadata": {
        "id": "20e68d88",
        "outputId": "a5e5ca2f-147f-4a0b-f492-22edefb9c211"
      },
      "outputs": [
        {
          "data": {
            "text/plain": [
              "2640.1356169149753"
            ]
          },
          "execution_count": 80,
          "metadata": {},
          "output_type": "execute_result"
        }
      ],
      "source": [
        "regression.intercept_ #To find the linear intercept"
      ]
    },
    {
      "cell_type": "code",
      "execution_count": null,
      "id": "51d71c8f",
      "metadata": {
        "id": "51d71c8f",
        "outputId": "20e74d02-8da0-4ae5-bd64-ecd91a706816"
      },
      "outputs": [
        {
          "data": {
            "text/plain": [
              "array([ 2.54805415e+01, -7.18365435e+00,  1.96232986e+01, -1.79401980e+01,\n",
              "        5.48472723e-02,  5.32910041e-03,  4.05930990e-03,  5.74261856e-02,\n",
              "        3.66574831e-01, -3.03753790e-02,  1.84233728e+00])"
            ]
          },
          "execution_count": 187,
          "metadata": {},
          "output_type": "execute_result"
        }
      ],
      "source": [
        "regression.coef_ #To find the linear coeeficient"
      ]
    },
    {
      "cell_type": "code",
      "execution_count": null,
      "id": "1f1eb1de",
      "metadata": {
        "id": "1f1eb1de"
      },
      "outputs": [],
      "source": [
        "prediction = regression.predict(X_test) #To predict the target values"
      ]
    },
    {
      "cell_type": "code",
      "execution_count": null,
      "id": "f0d5ff74",
      "metadata": {
        "id": "f0d5ff74",
        "outputId": "3cce587b-6b3b-43e3-aa8a-51758397f448"
      },
      "outputs": [
        {
          "name": "stdout",
          "output_type": "stream",
          "text": [
            "[ 5.47848314 10.11016249 12.19490542 ...  7.11952609 20.2482979\n",
            "  8.82791961]\n"
          ]
        }
      ],
      "source": [
        "print(prediction)"
      ]
    },
    {
      "cell_type": "code",
      "execution_count": null,
      "id": "bee43837",
      "metadata": {
        "id": "bee43837",
        "outputId": "1b088a35-820d-47ff-abfb-1382393c15dd"
      },
      "outputs": [
        {
          "data": {
            "text/plain": [
              "155740     4.90\n",
              "47070     10.00\n",
              "116192    14.50\n",
              "164589     6.50\n",
              "154309    11.30\n",
              "          ...  \n",
              "76552      7.70\n",
              "27926     10.90\n",
              "38972      6.50\n",
              "120341    22.25\n",
              "178449     8.10\n",
              "Name: fare_amount, Length: 66000, dtype: float64"
            ]
          },
          "execution_count": 190,
          "metadata": {},
          "output_type": "execute_result"
        }
      ],
      "source": [
        "y_test"
      ]
    },
    {
      "cell_type": "markdown",
      "id": "aea79164",
      "metadata": {
        "id": "aea79164"
      },
      "source": [
        "### Metrics Evaluation using R2, Mean Squared Error, Root Mean Sqared Error"
      ]
    },
    {
      "cell_type": "code",
      "execution_count": null,
      "id": "0adbb04a",
      "metadata": {
        "id": "0adbb04a"
      },
      "outputs": [],
      "source": [
        "from sklearn.metrics import r2_score"
      ]
    },
    {
      "cell_type": "code",
      "execution_count": null,
      "id": "e149ee76",
      "metadata": {
        "id": "e149ee76",
        "outputId": "a7c42445-7ee0-40c0-d987-8f6ad9b29545"
      },
      "outputs": [
        {
          "data": {
            "text/plain": [
              "0.6651880468683617"
            ]
          },
          "execution_count": 192,
          "metadata": {},
          "output_type": "execute_result"
        }
      ],
      "source": [
        "r2_score(y_test,prediction)"
      ]
    },
    {
      "cell_type": "code",
      "execution_count": null,
      "id": "fe211918",
      "metadata": {
        "id": "fe211918"
      },
      "outputs": [],
      "source": [
        "from sklearn.metrics import mean_squared_error"
      ]
    },
    {
      "cell_type": "code",
      "execution_count": null,
      "id": "c0f0a43a",
      "metadata": {
        "id": "c0f0a43a"
      },
      "outputs": [],
      "source": [
        "MSE = mean_squared_error(y_test,prediction)"
      ]
    },
    {
      "cell_type": "code",
      "execution_count": null,
      "id": "48d59a67",
      "metadata": {
        "id": "48d59a67",
        "outputId": "eebbdcbc-2b15-41e3-cabf-54b36f5f14ba"
      },
      "outputs": [
        {
          "data": {
            "text/plain": [
              "9.961516917717704"
            ]
          },
          "execution_count": 195,
          "metadata": {},
          "output_type": "execute_result"
        }
      ],
      "source": [
        "MSE"
      ]
    },
    {
      "cell_type": "code",
      "execution_count": null,
      "id": "2511108b",
      "metadata": {
        "id": "2511108b"
      },
      "outputs": [],
      "source": [
        "RMSE = np.sqrt(MSE)"
      ]
    },
    {
      "cell_type": "code",
      "execution_count": null,
      "id": "2dc85cab",
      "metadata": {
        "id": "2dc85cab",
        "outputId": "e7b5afe9-aef9-46d6-804e-94ff44fd9a95"
      },
      "outputs": [
        {
          "data": {
            "text/plain": [
              "3.156187085348032"
            ]
          },
          "execution_count": 197,
          "metadata": {},
          "output_type": "execute_result"
        }
      ],
      "source": [
        "RMSE"
      ]
    },
    {
      "cell_type": "markdown",
      "id": "b28a869b",
      "metadata": {
        "id": "b28a869b"
      },
      "source": [
        "### Random Forest Regression"
      ]
    },
    {
      "cell_type": "code",
      "execution_count": null,
      "id": "112d3d95",
      "metadata": {
        "id": "112d3d95"
      },
      "outputs": [],
      "source": [
        "from sklearn.ensemble import RandomForestRegressor"
      ]
    },
    {
      "cell_type": "code",
      "execution_count": null,
      "id": "38ec4ad5",
      "metadata": {
        "id": "38ec4ad5"
      },
      "outputs": [],
      "source": [
        "rf = RandomForestRegressor(n_estimators=100) #Here n_estimators means number of trees you want to build before making the prediction"
      ]
    },
    {
      "cell_type": "code",
      "execution_count": null,
      "id": "0534374d",
      "metadata": {
        "id": "0534374d",
        "outputId": "a870a210-a579-4ca4-de79-5e3f4fb64111"
      },
      "outputs": [
        {
          "data": {
            "text/plain": [
              "RandomForestRegressor()"
            ]
          },
          "execution_count": 200,
          "metadata": {},
          "output_type": "execute_result"
        }
      ],
      "source": [
        "rf.fit(X_train,y_train)"
      ]
    },
    {
      "cell_type": "code",
      "execution_count": null,
      "id": "9204f230",
      "metadata": {
        "id": "9204f230"
      },
      "outputs": [],
      "source": [
        "y_pred = rf.predict(X_test)"
      ]
    },
    {
      "cell_type": "code",
      "execution_count": null,
      "id": "2ff13564",
      "metadata": {
        "id": "2ff13564",
        "outputId": "d90e17a3-61e0-489a-f379-4db233351e6a"
      },
      "outputs": [
        {
          "data": {
            "text/plain": [
              "array([ 5.714 , 10.285 , 12.68  , ...,  6.338 , 19.4685,  7.712 ])"
            ]
          },
          "execution_count": 202,
          "metadata": {},
          "output_type": "execute_result"
        }
      ],
      "source": [
        "y_pred"
      ]
    },
    {
      "cell_type": "markdown",
      "id": "8533b89a",
      "metadata": {
        "id": "8533b89a"
      },
      "source": [
        "### Metrics evaluatin for Random Forest"
      ]
    },
    {
      "cell_type": "code",
      "execution_count": null,
      "id": "0d281db3",
      "metadata": {
        "id": "0d281db3"
      },
      "outputs": [],
      "source": [
        "R2_Random = r2_score(y_test,y_pred)"
      ]
    },
    {
      "cell_type": "code",
      "execution_count": null,
      "id": "addc915b",
      "metadata": {
        "id": "addc915b",
        "outputId": "19a2d671-5ceb-4e49-e2e3-652a8a4dc6d6"
      },
      "outputs": [
        {
          "data": {
            "text/plain": [
              "0.7948374920410631"
            ]
          },
          "execution_count": 211,
          "metadata": {},
          "output_type": "execute_result"
        }
      ],
      "source": [
        "R2_Random"
      ]
    },
    {
      "cell_type": "code",
      "execution_count": null,
      "id": "a5afba13",
      "metadata": {
        "id": "a5afba13"
      },
      "outputs": [],
      "source": [
        "MSE_Random = mean_squared_error(y_test,y_pred)"
      ]
    },
    {
      "cell_type": "code",
      "execution_count": null,
      "id": "2a24e004",
      "metadata": {
        "id": "2a24e004",
        "outputId": "77850678-3a2d-43f0-ec66-53adc6a2e0e1"
      },
      "outputs": [
        {
          "data": {
            "text/plain": [
              "6.104112397417331"
            ]
          },
          "execution_count": 206,
          "metadata": {},
          "output_type": "execute_result"
        }
      ],
      "source": [
        "MSE_Random"
      ]
    },
    {
      "cell_type": "code",
      "execution_count": null,
      "id": "2d28c828",
      "metadata": {
        "id": "2d28c828"
      },
      "outputs": [],
      "source": [
        "RMSE_Random = np.sqrt(MSE_Random)"
      ]
    },
    {
      "cell_type": "code",
      "execution_count": null,
      "id": "bd7fce65",
      "metadata": {
        "scrolled": true,
        "id": "bd7fce65",
        "outputId": "1663b773-f7c5-495c-89a5-0cbd7a14fb35"
      },
      "outputs": [
        {
          "data": {
            "text/plain": [
              "2.4706501972997574"
            ]
          },
          "execution_count": 208,
          "metadata": {},
          "output_type": "execute_result"
        }
      ],
      "source": [
        "RMSE_Random"
      ]
    }
  ],
  "metadata": {
    "kernelspec": {
      "display_name": "Python 3",
      "language": "python",
      "name": "python3"
    },
    "language_info": {
      "codemirror_mode": {
        "name": "ipython",
        "version": 3
      },
      "file_extension": ".py",
      "mimetype": "text/x-python",
      "name": "python",
      "nbconvert_exporter": "python",
      "pygments_lexer": "ipython3",
      "version": "3.8.8"
    },
    "colab": {
      "provenance": []
    }
  },
  "nbformat": 4,
  "nbformat_minor": 5
}