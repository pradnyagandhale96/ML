{
  "cells": [
    {
      "cell_type": "markdown",
      "id": "9f0e9e91",
      "metadata": {
        "id": "9f0e9e91"
      },
      "source": [
        "# Implement K-Means clustering/ hierarchical clustering on sales_data_sample.csv dataset. Determine the number of clusters using the elbow method."
      ]
    },
    {
      "cell_type": "code",
      "execution_count": null,
      "id": "bef55cff",
      "metadata": {
        "id": "bef55cff"
      },
      "outputs": [],
      "source": [
        "import pandas as pd\n",
        "import numpy as np\n",
        "import seaborn as sns\n",
        "import matplotlib.pyplot as plt\n",
        "#Importing the required libraries."
      ]
    },
    {
      "cell_type": "code",
      "execution_count": null,
      "id": "ec30055c",
      "metadata": {
        "id": "ec30055c"
      },
      "outputs": [],
      "source": [
        "from sklearn.cluster import KMeans, k_means #For clustering\n",
        "from sklearn.decomposition import PCA #Linear Dimensionality reduction."
      ]
    },
    {
      "cell_type": "code",
      "execution_count": null,
      "id": "d10d9c79",
      "metadata": {
        "id": "d10d9c79"
      },
      "outputs": [],
      "source": [
        "df = pd.read_csv(\"sales_data_sample.csv\") #Loading the dataset."
      ]
    },
    {
      "cell_type": "markdown",
      "id": "1ac686dd",
      "metadata": {
        "id": "1ac686dd"
      },
      "source": [
        "## Preprocessing"
      ]
    },
    {
      "cell_type": "code",
      "execution_count": null,
      "id": "55b84173",
      "metadata": {
        "id": "55b84173",
        "outputId": "daab927a-2915-4858-fc80-b4fd6919bcfa"
      },
      "outputs": [
        {
          "data": {
            "text/html": [
              "<div>\n",
              "<style scoped>\n",
              "    .dataframe tbody tr th:only-of-type {\n",
              "        vertical-align: middle;\n",
              "    }\n",
              "\n",
              "    .dataframe tbody tr th {\n",
              "        vertical-align: top;\n",
              "    }\n",
              "\n",
              "    .dataframe thead th {\n",
              "        text-align: right;\n",
              "    }\n",
              "</style>\n",
              "<table border=\"1\" class=\"dataframe\">\n",
              "  <thead>\n",
              "    <tr style=\"text-align: right;\">\n",
              "      <th></th>\n",
              "      <th>ORDERNUMBER</th>\n",
              "      <th>QUANTITYORDERED</th>\n",
              "      <th>PRICEEACH</th>\n",
              "      <th>ORDERLINENUMBER</th>\n",
              "      <th>SALES</th>\n",
              "      <th>ORDERDATE</th>\n",
              "      <th>STATUS</th>\n",
              "      <th>QTR_ID</th>\n",
              "      <th>MONTH_ID</th>\n",
              "      <th>YEAR_ID</th>\n",
              "      <th>...</th>\n",
              "      <th>ADDRESSLINE1</th>\n",
              "      <th>ADDRESSLINE2</th>\n",
              "      <th>CITY</th>\n",
              "      <th>STATE</th>\n",
              "      <th>POSTALCODE</th>\n",
              "      <th>COUNTRY</th>\n",
              "      <th>TERRITORY</th>\n",
              "      <th>CONTACTLASTNAME</th>\n",
              "      <th>CONTACTFIRSTNAME</th>\n",
              "      <th>DEALSIZE</th>\n",
              "    </tr>\n",
              "  </thead>\n",
              "  <tbody>\n",
              "    <tr>\n",
              "      <th>0</th>\n",
              "      <td>10107</td>\n",
              "      <td>30</td>\n",
              "      <td>95.70</td>\n",
              "      <td>2</td>\n",
              "      <td>2871.00</td>\n",
              "      <td>2/24/2003 0:00</td>\n",
              "      <td>Shipped</td>\n",
              "      <td>1</td>\n",
              "      <td>2</td>\n",
              "      <td>2003</td>\n",
              "      <td>...</td>\n",
              "      <td>897 Long Airport Avenue</td>\n",
              "      <td>NaN</td>\n",
              "      <td>NYC</td>\n",
              "      <td>NY</td>\n",
              "      <td>10022</td>\n",
              "      <td>USA</td>\n",
              "      <td>NaN</td>\n",
              "      <td>Yu</td>\n",
              "      <td>Kwai</td>\n",
              "      <td>Small</td>\n",
              "    </tr>\n",
              "    <tr>\n",
              "      <th>1</th>\n",
              "      <td>10121</td>\n",
              "      <td>34</td>\n",
              "      <td>81.35</td>\n",
              "      <td>5</td>\n",
              "      <td>2765.90</td>\n",
              "      <td>5/7/2003 0:00</td>\n",
              "      <td>Shipped</td>\n",
              "      <td>2</td>\n",
              "      <td>5</td>\n",
              "      <td>2003</td>\n",
              "      <td>...</td>\n",
              "      <td>59 rue de l'Abbaye</td>\n",
              "      <td>NaN</td>\n",
              "      <td>Reims</td>\n",
              "      <td>NaN</td>\n",
              "      <td>51100</td>\n",
              "      <td>France</td>\n",
              "      <td>EMEA</td>\n",
              "      <td>Henriot</td>\n",
              "      <td>Paul</td>\n",
              "      <td>Small</td>\n",
              "    </tr>\n",
              "    <tr>\n",
              "      <th>2</th>\n",
              "      <td>10134</td>\n",
              "      <td>41</td>\n",
              "      <td>94.74</td>\n",
              "      <td>2</td>\n",
              "      <td>3884.34</td>\n",
              "      <td>7/1/2003 0:00</td>\n",
              "      <td>Shipped</td>\n",
              "      <td>3</td>\n",
              "      <td>7</td>\n",
              "      <td>2003</td>\n",
              "      <td>...</td>\n",
              "      <td>27 rue du Colonel Pierre Avia</td>\n",
              "      <td>NaN</td>\n",
              "      <td>Paris</td>\n",
              "      <td>NaN</td>\n",
              "      <td>75508</td>\n",
              "      <td>France</td>\n",
              "      <td>EMEA</td>\n",
              "      <td>Da Cunha</td>\n",
              "      <td>Daniel</td>\n",
              "      <td>Medium</td>\n",
              "    </tr>\n",
              "    <tr>\n",
              "      <th>3</th>\n",
              "      <td>10145</td>\n",
              "      <td>45</td>\n",
              "      <td>83.26</td>\n",
              "      <td>6</td>\n",
              "      <td>3746.70</td>\n",
              "      <td>8/25/2003 0:00</td>\n",
              "      <td>Shipped</td>\n",
              "      <td>3</td>\n",
              "      <td>8</td>\n",
              "      <td>2003</td>\n",
              "      <td>...</td>\n",
              "      <td>78934 Hillside Dr.</td>\n",
              "      <td>NaN</td>\n",
              "      <td>Pasadena</td>\n",
              "      <td>CA</td>\n",
              "      <td>90003</td>\n",
              "      <td>USA</td>\n",
              "      <td>NaN</td>\n",
              "      <td>Young</td>\n",
              "      <td>Julie</td>\n",
              "      <td>Medium</td>\n",
              "    </tr>\n",
              "    <tr>\n",
              "      <th>4</th>\n",
              "      <td>10159</td>\n",
              "      <td>49</td>\n",
              "      <td>100.00</td>\n",
              "      <td>14</td>\n",
              "      <td>5205.27</td>\n",
              "      <td>10/10/2003 0:00</td>\n",
              "      <td>Shipped</td>\n",
              "      <td>4</td>\n",
              "      <td>10</td>\n",
              "      <td>2003</td>\n",
              "      <td>...</td>\n",
              "      <td>7734 Strong St.</td>\n",
              "      <td>NaN</td>\n",
              "      <td>San Francisco</td>\n",
              "      <td>CA</td>\n",
              "      <td>NaN</td>\n",
              "      <td>USA</td>\n",
              "      <td>NaN</td>\n",
              "      <td>Brown</td>\n",
              "      <td>Julie</td>\n",
              "      <td>Medium</td>\n",
              "    </tr>\n",
              "  </tbody>\n",
              "</table>\n",
              "<p>5 rows × 25 columns</p>\n",
              "</div>"
            ],
            "text/plain": [
              "   ORDERNUMBER  QUANTITYORDERED  PRICEEACH  ORDERLINENUMBER    SALES  \\\n",
              "0        10107               30      95.70                2  2871.00   \n",
              "1        10121               34      81.35                5  2765.90   \n",
              "2        10134               41      94.74                2  3884.34   \n",
              "3        10145               45      83.26                6  3746.70   \n",
              "4        10159               49     100.00               14  5205.27   \n",
              "\n",
              "         ORDERDATE   STATUS  QTR_ID  MONTH_ID  YEAR_ID  ...  \\\n",
              "0   2/24/2003 0:00  Shipped       1         2     2003  ...   \n",
              "1    5/7/2003 0:00  Shipped       2         5     2003  ...   \n",
              "2    7/1/2003 0:00  Shipped       3         7     2003  ...   \n",
              "3   8/25/2003 0:00  Shipped       3         8     2003  ...   \n",
              "4  10/10/2003 0:00  Shipped       4        10     2003  ...   \n",
              "\n",
              "                    ADDRESSLINE1  ADDRESSLINE2           CITY STATE  \\\n",
              "0        897 Long Airport Avenue           NaN            NYC    NY   \n",
              "1             59 rue de l'Abbaye           NaN          Reims   NaN   \n",
              "2  27 rue du Colonel Pierre Avia           NaN          Paris   NaN   \n",
              "3             78934 Hillside Dr.           NaN       Pasadena    CA   \n",
              "4                7734 Strong St.           NaN  San Francisco    CA   \n",
              "\n",
              "  POSTALCODE COUNTRY TERRITORY CONTACTLASTNAME CONTACTFIRSTNAME DEALSIZE  \n",
              "0      10022     USA       NaN              Yu             Kwai    Small  \n",
              "1      51100  France      EMEA         Henriot             Paul    Small  \n",
              "2      75508  France      EMEA        Da Cunha           Daniel   Medium  \n",
              "3      90003     USA       NaN           Young            Julie   Medium  \n",
              "4        NaN     USA       NaN           Brown            Julie   Medium  \n",
              "\n",
              "[5 rows x 25 columns]"
            ]
          },
          "execution_count": 201,
          "metadata": {},
          "output_type": "execute_result"
        }
      ],
      "source": [
        "df.head()"
      ]
    },
    {
      "cell_type": "code",
      "execution_count": null,
      "id": "b3a3ab08",
      "metadata": {
        "id": "b3a3ab08",
        "outputId": "6bd395cf-1ab6-4db9-e8ed-88124b725857"
      },
      "outputs": [
        {
          "data": {
            "text/plain": [
              "(2823, 25)"
            ]
          },
          "execution_count": 202,
          "metadata": {},
          "output_type": "execute_result"
        }
      ],
      "source": [
        "df.shape"
      ]
    },
    {
      "cell_type": "code",
      "execution_count": null,
      "id": "6277f051",
      "metadata": {
        "scrolled": true,
        "id": "6277f051",
        "outputId": "e06ddc0a-cb65-4e19-ec9e-5fee203279c1"
      },
      "outputs": [
        {
          "data": {
            "text/html": [
              "<div>\n",
              "<style scoped>\n",
              "    .dataframe tbody tr th:only-of-type {\n",
              "        vertical-align: middle;\n",
              "    }\n",
              "\n",
              "    .dataframe tbody tr th {\n",
              "        vertical-align: top;\n",
              "    }\n",
              "\n",
              "    .dataframe thead th {\n",
              "        text-align: right;\n",
              "    }\n",
              "</style>\n",
              "<table border=\"1\" class=\"dataframe\">\n",
              "  <thead>\n",
              "    <tr style=\"text-align: right;\">\n",
              "      <th></th>\n",
              "      <th>ORDERNUMBER</th>\n",
              "      <th>QUANTITYORDERED</th>\n",
              "      <th>PRICEEACH</th>\n",
              "      <th>ORDERLINENUMBER</th>\n",
              "      <th>SALES</th>\n",
              "      <th>QTR_ID</th>\n",
              "      <th>MONTH_ID</th>\n",
              "      <th>YEAR_ID</th>\n",
              "      <th>MSRP</th>\n",
              "    </tr>\n",
              "  </thead>\n",
              "  <tbody>\n",
              "    <tr>\n",
              "      <th>count</th>\n",
              "      <td>2823.000000</td>\n",
              "      <td>2823.000000</td>\n",
              "      <td>2823.000000</td>\n",
              "      <td>2823.000000</td>\n",
              "      <td>2823.000000</td>\n",
              "      <td>2823.000000</td>\n",
              "      <td>2823.000000</td>\n",
              "      <td>2823.00000</td>\n",
              "      <td>2823.000000</td>\n",
              "    </tr>\n",
              "    <tr>\n",
              "      <th>mean</th>\n",
              "      <td>10258.725115</td>\n",
              "      <td>35.092809</td>\n",
              "      <td>83.658544</td>\n",
              "      <td>6.466171</td>\n",
              "      <td>3553.889072</td>\n",
              "      <td>2.717676</td>\n",
              "      <td>7.092455</td>\n",
              "      <td>2003.81509</td>\n",
              "      <td>100.715551</td>\n",
              "    </tr>\n",
              "    <tr>\n",
              "      <th>std</th>\n",
              "      <td>92.085478</td>\n",
              "      <td>9.741443</td>\n",
              "      <td>20.174277</td>\n",
              "      <td>4.225841</td>\n",
              "      <td>1841.865106</td>\n",
              "      <td>1.203878</td>\n",
              "      <td>3.656633</td>\n",
              "      <td>0.69967</td>\n",
              "      <td>40.187912</td>\n",
              "    </tr>\n",
              "    <tr>\n",
              "      <th>min</th>\n",
              "      <td>10100.000000</td>\n",
              "      <td>6.000000</td>\n",
              "      <td>26.880000</td>\n",
              "      <td>1.000000</td>\n",
              "      <td>482.130000</td>\n",
              "      <td>1.000000</td>\n",
              "      <td>1.000000</td>\n",
              "      <td>2003.00000</td>\n",
              "      <td>33.000000</td>\n",
              "    </tr>\n",
              "    <tr>\n",
              "      <th>25%</th>\n",
              "      <td>10180.000000</td>\n",
              "      <td>27.000000</td>\n",
              "      <td>68.860000</td>\n",
              "      <td>3.000000</td>\n",
              "      <td>2203.430000</td>\n",
              "      <td>2.000000</td>\n",
              "      <td>4.000000</td>\n",
              "      <td>2003.00000</td>\n",
              "      <td>68.000000</td>\n",
              "    </tr>\n",
              "    <tr>\n",
              "      <th>50%</th>\n",
              "      <td>10262.000000</td>\n",
              "      <td>35.000000</td>\n",
              "      <td>95.700000</td>\n",
              "      <td>6.000000</td>\n",
              "      <td>3184.800000</td>\n",
              "      <td>3.000000</td>\n",
              "      <td>8.000000</td>\n",
              "      <td>2004.00000</td>\n",
              "      <td>99.000000</td>\n",
              "    </tr>\n",
              "    <tr>\n",
              "      <th>75%</th>\n",
              "      <td>10333.500000</td>\n",
              "      <td>43.000000</td>\n",
              "      <td>100.000000</td>\n",
              "      <td>9.000000</td>\n",
              "      <td>4508.000000</td>\n",
              "      <td>4.000000</td>\n",
              "      <td>11.000000</td>\n",
              "      <td>2004.00000</td>\n",
              "      <td>124.000000</td>\n",
              "    </tr>\n",
              "    <tr>\n",
              "      <th>max</th>\n",
              "      <td>10425.000000</td>\n",
              "      <td>97.000000</td>\n",
              "      <td>100.000000</td>\n",
              "      <td>18.000000</td>\n",
              "      <td>14082.800000</td>\n",
              "      <td>4.000000</td>\n",
              "      <td>12.000000</td>\n",
              "      <td>2005.00000</td>\n",
              "      <td>214.000000</td>\n",
              "    </tr>\n",
              "  </tbody>\n",
              "</table>\n",
              "</div>"
            ],
            "text/plain": [
              "        ORDERNUMBER  QUANTITYORDERED    PRICEEACH  ORDERLINENUMBER  \\\n",
              "count   2823.000000      2823.000000  2823.000000      2823.000000   \n",
              "mean   10258.725115        35.092809    83.658544         6.466171   \n",
              "std       92.085478         9.741443    20.174277         4.225841   \n",
              "min    10100.000000         6.000000    26.880000         1.000000   \n",
              "25%    10180.000000        27.000000    68.860000         3.000000   \n",
              "50%    10262.000000        35.000000    95.700000         6.000000   \n",
              "75%    10333.500000        43.000000   100.000000         9.000000   \n",
              "max    10425.000000        97.000000   100.000000        18.000000   \n",
              "\n",
              "              SALES       QTR_ID     MONTH_ID     YEAR_ID         MSRP  \n",
              "count   2823.000000  2823.000000  2823.000000  2823.00000  2823.000000  \n",
              "mean    3553.889072     2.717676     7.092455  2003.81509   100.715551  \n",
              "std     1841.865106     1.203878     3.656633     0.69967    40.187912  \n",
              "min      482.130000     1.000000     1.000000  2003.00000    33.000000  \n",
              "25%     2203.430000     2.000000     4.000000  2003.00000    68.000000  \n",
              "50%     3184.800000     3.000000     8.000000  2004.00000    99.000000  \n",
              "75%     4508.000000     4.000000    11.000000  2004.00000   124.000000  \n",
              "max    14082.800000     4.000000    12.000000  2005.00000   214.000000  "
            ]
          },
          "execution_count": 203,
          "metadata": {},
          "output_type": "execute_result"
        }
      ],
      "source": [
        "df.describe()"
      ]
    },
    {
      "cell_type": "code",
      "execution_count": null,
      "id": "8a4a5889",
      "metadata": {
        "id": "8a4a5889",
        "outputId": "a68216bc-1a10-4c08-c762-4c556af86bb2"
      },
      "outputs": [
        {
          "name": "stdout",
          "output_type": "stream",
          "text": [
            "<class 'pandas.core.frame.DataFrame'>\n",
            "RangeIndex: 2823 entries, 0 to 2822\n",
            "Data columns (total 25 columns):\n",
            " #   Column            Non-Null Count  Dtype  \n",
            "---  ------            --------------  -----  \n",
            " 0   ORDERNUMBER       2823 non-null   int64  \n",
            " 1   QUANTITYORDERED   2823 non-null   int64  \n",
            " 2   PRICEEACH         2823 non-null   float64\n",
            " 3   ORDERLINENUMBER   2823 non-null   int64  \n",
            " 4   SALES             2823 non-null   float64\n",
            " 5   ORDERDATE         2823 non-null   object \n",
            " 6   STATUS            2823 non-null   object \n",
            " 7   QTR_ID            2823 non-null   int64  \n",
            " 8   MONTH_ID          2823 non-null   int64  \n",
            " 9   YEAR_ID           2823 non-null   int64  \n",
            " 10  PRODUCTLINE       2823 non-null   object \n",
            " 11  MSRP              2823 non-null   int64  \n",
            " 12  PRODUCTCODE       2823 non-null   object \n",
            " 13  CUSTOMERNAME      2823 non-null   object \n",
            " 14  PHONE             2823 non-null   object \n",
            " 15  ADDRESSLINE1      2823 non-null   object \n",
            " 16  ADDRESSLINE2      302 non-null    object \n",
            " 17  CITY              2823 non-null   object \n",
            " 18  STATE             1337 non-null   object \n",
            " 19  POSTALCODE        2747 non-null   object \n",
            " 20  COUNTRY           2823 non-null   object \n",
            " 21  TERRITORY         1749 non-null   object \n",
            " 22  CONTACTLASTNAME   2823 non-null   object \n",
            " 23  CONTACTFIRSTNAME  2823 non-null   object \n",
            " 24  DEALSIZE          2823 non-null   object \n",
            "dtypes: float64(2), int64(7), object(16)\n",
            "memory usage: 551.5+ KB\n"
          ]
        }
      ],
      "source": [
        "df.info()"
      ]
    },
    {
      "cell_type": "code",
      "execution_count": null,
      "id": "64870c4e",
      "metadata": {
        "id": "64870c4e",
        "outputId": "a18f4831-db6a-4908-b79e-d72becf7d54a"
      },
      "outputs": [
        {
          "data": {
            "text/plain": [
              "ORDERNUMBER            0\n",
              "QUANTITYORDERED        0\n",
              "PRICEEACH              0\n",
              "ORDERLINENUMBER        0\n",
              "SALES                  0\n",
              "ORDERDATE              0\n",
              "STATUS                 0\n",
              "QTR_ID                 0\n",
              "MONTH_ID               0\n",
              "YEAR_ID                0\n",
              "PRODUCTLINE            0\n",
              "MSRP                   0\n",
              "PRODUCTCODE            0\n",
              "CUSTOMERNAME           0\n",
              "PHONE                  0\n",
              "ADDRESSLINE1           0\n",
              "ADDRESSLINE2        2521\n",
              "CITY                   0\n",
              "STATE               1486\n",
              "POSTALCODE            76\n",
              "COUNTRY                0\n",
              "TERRITORY           1074\n",
              "CONTACTLASTNAME        0\n",
              "CONTACTFIRSTNAME       0\n",
              "DEALSIZE               0\n",
              "dtype: int64"
            ]
          },
          "execution_count": 205,
          "metadata": {},
          "output_type": "execute_result"
        }
      ],
      "source": [
        "df.isnull().sum()"
      ]
    },
    {
      "cell_type": "code",
      "execution_count": null,
      "id": "a300d986",
      "metadata": {
        "id": "a300d986",
        "outputId": "d9986990-ee7f-42a6-b8dc-86f4d726e453"
      },
      "outputs": [
        {
          "data": {
            "text/plain": [
              "ORDERNUMBER           int64\n",
              "QUANTITYORDERED       int64\n",
              "PRICEEACH           float64\n",
              "ORDERLINENUMBER       int64\n",
              "SALES               float64\n",
              "ORDERDATE            object\n",
              "STATUS               object\n",
              "QTR_ID                int64\n",
              "MONTH_ID              int64\n",
              "YEAR_ID               int64\n",
              "PRODUCTLINE          object\n",
              "MSRP                  int64\n",
              "PRODUCTCODE          object\n",
              "CUSTOMERNAME         object\n",
              "PHONE                object\n",
              "ADDRESSLINE1         object\n",
              "ADDRESSLINE2         object\n",
              "CITY                 object\n",
              "STATE                object\n",
              "POSTALCODE           object\n",
              "COUNTRY              object\n",
              "TERRITORY            object\n",
              "CONTACTLASTNAME      object\n",
              "CONTACTFIRSTNAME     object\n",
              "DEALSIZE             object\n",
              "dtype: object"
            ]
          },
          "execution_count": 206,
          "metadata": {},
          "output_type": "execute_result"
        }
      ],
      "source": [
        "df.dtypes"
      ]
    },
    {
      "cell_type": "code",
      "execution_count": null,
      "id": "e528074c",
      "metadata": {
        "id": "e528074c"
      },
      "outputs": [],
      "source": [
        "df_drop  = ['ADDRESSLINE1', 'ADDRESSLINE2', 'STATUS','POSTALCODE', 'CITY', 'TERRITORY', 'PHONE', 'STATE', 'CONTACTFIRSTNAME', 'CONTACTLASTNAME', 'CUSTOMERNAME', 'ORDERNUMBER']\n",
        "df = df.drop(df_drop, axis=1) #Dropping the categorical uneccessary columns along with columns having null values. Can't fill the null values are there are alot of null values."
      ]
    },
    {
      "cell_type": "code",
      "execution_count": null,
      "id": "706186e8",
      "metadata": {
        "id": "706186e8",
        "outputId": "b127697e-9404-412f-88bd-deaa462c17a8"
      },
      "outputs": [
        {
          "data": {
            "text/plain": [
              "QUANTITYORDERED    0\n",
              "PRICEEACH          0\n",
              "ORDERLINENUMBER    0\n",
              "SALES              0\n",
              "ORDERDATE          0\n",
              "QTR_ID             0\n",
              "MONTH_ID           0\n",
              "YEAR_ID            0\n",
              "PRODUCTLINE        0\n",
              "MSRP               0\n",
              "PRODUCTCODE        0\n",
              "COUNTRY            0\n",
              "DEALSIZE           0\n",
              "dtype: int64"
            ]
          },
          "execution_count": 208,
          "metadata": {},
          "output_type": "execute_result"
        }
      ],
      "source": [
        "df.isnull().sum()"
      ]
    },
    {
      "cell_type": "code",
      "execution_count": null,
      "id": "04f7008d",
      "metadata": {
        "id": "04f7008d",
        "outputId": "ad037605-aac6-4dc8-8325-111366d1916e"
      },
      "outputs": [
        {
          "data": {
            "text/plain": [
              "QUANTITYORDERED      int64\n",
              "PRICEEACH          float64\n",
              "ORDERLINENUMBER      int64\n",
              "SALES              float64\n",
              "ORDERDATE           object\n",
              "QTR_ID               int64\n",
              "MONTH_ID             int64\n",
              "YEAR_ID              int64\n",
              "PRODUCTLINE         object\n",
              "MSRP                 int64\n",
              "PRODUCTCODE         object\n",
              "COUNTRY             object\n",
              "DEALSIZE            object\n",
              "dtype: object"
            ]
          },
          "execution_count": 209,
          "metadata": {},
          "output_type": "execute_result"
        }
      ],
      "source": [
        "df.dtypes"
      ]
    },
    {
      "cell_type": "code",
      "execution_count": null,
      "id": "43df8ebf",
      "metadata": {
        "id": "43df8ebf"
      },
      "outputs": [],
      "source": [
        "# Checking the categorical columns."
      ]
    },
    {
      "cell_type": "code",
      "execution_count": null,
      "id": "52ce93af",
      "metadata": {
        "id": "52ce93af",
        "outputId": "c8fec625-c134-4a13-c582-ef728ce624cb"
      },
      "outputs": [
        {
          "data": {
            "text/plain": [
              "array(['USA', 'France', 'Norway', 'Australia', 'Finland', 'Austria', 'UK',\n",
              "       'Spain', 'Sweden', 'Singapore', 'Canada', 'Japan', 'Italy',\n",
              "       'Denmark', 'Belgium', 'Philippines', 'Germany', 'Switzerland',\n",
              "       'Ireland'], dtype=object)"
            ]
          },
          "execution_count": 210,
          "metadata": {},
          "output_type": "execute_result"
        }
      ],
      "source": [
        "df['COUNTRY'].unique()"
      ]
    },
    {
      "cell_type": "code",
      "execution_count": null,
      "id": "b42c0cab",
      "metadata": {
        "scrolled": true,
        "id": "b42c0cab",
        "outputId": "23a37e58-6c24-4d31-f825-dad5a785b8ea"
      },
      "outputs": [
        {
          "data": {
            "text/plain": [
              "array(['Motorcycles', 'Classic Cars', 'Trucks and Buses', 'Vintage Cars',\n",
              "       'Planes', 'Ships', 'Trains'], dtype=object)"
            ]
          },
          "execution_count": 211,
          "metadata": {},
          "output_type": "execute_result"
        }
      ],
      "source": [
        "df['PRODUCTLINE'].unique()"
      ]
    },
    {
      "cell_type": "code",
      "execution_count": null,
      "id": "ec0bff39",
      "metadata": {
        "id": "ec0bff39",
        "outputId": "23bef7b8-670c-48b9-80f6-5997f562b220"
      },
      "outputs": [
        {
          "data": {
            "text/plain": [
              "array(['Small', 'Medium', 'Large'], dtype=object)"
            ]
          },
          "execution_count": 212,
          "metadata": {},
          "output_type": "execute_result"
        }
      ],
      "source": [
        "df['DEALSIZE'].unique()"
      ]
    },
    {
      "cell_type": "code",
      "execution_count": null,
      "id": "e9213772",
      "metadata": {
        "id": "e9213772"
      },
      "outputs": [],
      "source": [
        "productline = pd.get_dummies(df['PRODUCTLINE']) #Converting the categorical columns.\n",
        "Dealsize = pd.get_dummies(df['DEALSIZE'])"
      ]
    },
    {
      "cell_type": "code",
      "execution_count": null,
      "id": "9c544217",
      "metadata": {
        "id": "9c544217"
      },
      "outputs": [],
      "source": [
        "df = pd.concat([df,productline,Dealsize], axis = 1)"
      ]
    },
    {
      "cell_type": "code",
      "execution_count": null,
      "id": "97607aa7",
      "metadata": {
        "id": "97607aa7"
      },
      "outputs": [],
      "source": [
        "df_drop  = ['COUNTRY','PRODUCTLINE','DEALSIZE'] #Dropping Country too as there are alot of countries.\n",
        "df = df.drop(df_drop, axis=1)"
      ]
    },
    {
      "cell_type": "code",
      "execution_count": null,
      "id": "4c4d7661",
      "metadata": {
        "id": "4c4d7661"
      },
      "outputs": [],
      "source": [
        "df['PRODUCTCODE'] = pd.Categorical(df['PRODUCTCODE']).codes #Converting the datatype."
      ]
    },
    {
      "cell_type": "code",
      "execution_count": null,
      "id": "f02982d2",
      "metadata": {
        "id": "f02982d2"
      },
      "outputs": [],
      "source": [
        "df.drop('ORDERDATE', axis=1, inplace=True) #Dropping the Orderdate as Month is already included."
      ]
    },
    {
      "cell_type": "code",
      "execution_count": null,
      "id": "2d45026a",
      "metadata": {
        "id": "2d45026a",
        "outputId": "05a429a0-ff73-4152-9f79-fcda0f4504f0"
      },
      "outputs": [
        {
          "data": {
            "text/plain": [
              "QUANTITYORDERED       int64\n",
              "PRICEEACH           float64\n",
              "ORDERLINENUMBER       int64\n",
              "SALES               float64\n",
              "QTR_ID                int64\n",
              "MONTH_ID              int64\n",
              "YEAR_ID               int64\n",
              "MSRP                  int64\n",
              "PRODUCTCODE            int8\n",
              "Classic Cars          uint8\n",
              "Motorcycles           uint8\n",
              "Planes                uint8\n",
              "Ships                 uint8\n",
              "Trains                uint8\n",
              "Trucks and Buses      uint8\n",
              "Vintage Cars          uint8\n",
              "Large                 uint8\n",
              "Medium                uint8\n",
              "Small                 uint8\n",
              "dtype: object"
            ]
          },
          "execution_count": 218,
          "metadata": {},
          "output_type": "execute_result"
        }
      ],
      "source": [
        "df.dtypes #All the datatypes are converted into numeric"
      ]
    },
    {
      "cell_type": "markdown",
      "id": "82de4523",
      "metadata": {
        "id": "82de4523"
      },
      "source": [
        "## Plotting the Elbow Plot to determine the number of clusters."
      ]
    },
    {
      "cell_type": "code",
      "execution_count": null,
      "id": "850e9f13",
      "metadata": {
        "id": "850e9f13"
      },
      "outputs": [],
      "source": [
        "distortions = [] # Within Cluster Sum of Squares from the centroid\n",
        "K = range(1,10)\n",
        "for k in K:\n",
        "    kmeanModel = KMeans(n_clusters=k)\n",
        "    kmeanModel.fit(df)\n",
        "    distortions.append(kmeanModel.inertia_)   #Appeding the intertia to the Distortions"
      ]
    },
    {
      "cell_type": "code",
      "execution_count": null,
      "id": "323c454d",
      "metadata": {
        "id": "323c454d",
        "outputId": "7a230466-4789-4469-f8bf-2d516aa1b942"
      },
      "outputs": [
        {
          "data": {
            "image/png": "[encoded data removed]",
            "text/plain": [
              "<Figure size 1152x576 with 1 Axes>"
            ]
          },
          "metadata": {
            "needs_background": "light"
          },
          "output_type": "display_data"
        }
      ],
      "source": [
        "plt.figure(figsize=(16,8))\n",
        "plt.plot(K, distortions, 'bx-')\n",
        "plt.xlabel('k')\n",
        "plt.ylabel('Distortion')\n",
        "plt.title('The Elbow Method showing the optimal k')\n",
        "plt.show()"
      ]
    },
    {
      "cell_type": "markdown",
      "id": "c9ad3a2d",
      "metadata": {
        "id": "c9ad3a2d"
      },
      "source": [
        "## As the number of k increases Inertia decreases.\n",
        "## Observations: A Elbow can be observed at 3 and after that the curve decreases gradually."
      ]
    },
    {
      "cell_type": "code",
      "execution_count": null,
      "id": "1b61b519",
      "metadata": {
        "id": "1b61b519"
      },
      "outputs": [],
      "source": [
        "X_train = df.values #Returns a numpy array."
      ]
    },
    {
      "cell_type": "code",
      "execution_count": null,
      "id": "c94cb45f",
      "metadata": {
        "id": "c94cb45f",
        "outputId": "3b684913-8711-44a7-f25b-0cf5a9e6d129"
      },
      "outputs": [
        {
          "data": {
            "text/plain": [
              "(2823, 19)"
            ]
          },
          "execution_count": 222,
          "metadata": {},
          "output_type": "execute_result"
        }
      ],
      "source": [
        "X_train.shape"
      ]
    },
    {
      "cell_type": "code",
      "execution_count": null,
      "id": "c1b66585",
      "metadata": {
        "id": "c1b66585"
      },
      "outputs": [],
      "source": [
        "model = KMeans(n_clusters=3,random_state=2) #Number of cluster = 3\n",
        "model = model.fit(X_train) #Fitting the values to create a model.\n",
        "predictions = model.predict(X_train) #Predicting the cluster values (0,1,or 2)"
      ]
    },
    {
      "cell_type": "code",
      "execution_count": null,
      "id": "0740f489",
      "metadata": {
        "id": "0740f489"
      },
      "outputs": [],
      "source": [
        "unique,counts = np.unique(predictions,return_counts=True)"
      ]
    },
    {
      "cell_type": "code",
      "execution_count": null,
      "id": "a3b00ded",
      "metadata": {
        "id": "a3b00ded"
      },
      "outputs": [],
      "source": [
        "counts = counts.reshape(1,3)"
      ]
    },
    {
      "cell_type": "code",
      "execution_count": null,
      "id": "98680f65",
      "metadata": {
        "id": "98680f65"
      },
      "outputs": [],
      "source": [
        "counts_df = pd.DataFrame(counts,columns=['Cluster1','Cluster2','Cluster3'])"
      ]
    },
    {
      "cell_type": "code",
      "execution_count": null,
      "id": "6550f668",
      "metadata": {
        "id": "6550f668",
        "outputId": "48b909c7-0230-43bc-f4e0-fc23caed8cdf"
      },
      "outputs": [
        {
          "data": {
            "text/html": [
              "<div>\n",
              "<style scoped>\n",
              "    .dataframe tbody tr th:only-of-type {\n",
              "        vertical-align: middle;\n",
              "    }\n",
              "\n",
              "    .dataframe tbody tr th {\n",
              "        vertical-align: top;\n",
              "    }\n",
              "\n",
              "    .dataframe thead th {\n",
              "        text-align: right;\n",
              "    }\n",
              "</style>\n",
              "<table border=\"1\" class=\"dataframe\">\n",
              "  <thead>\n",
              "    <tr style=\"text-align: right;\">\n",
              "      <th></th>\n",
              "      <th>Cluster1</th>\n",
              "      <th>Cluster2</th>\n",
              "      <th>Cluster3</th>\n",
              "    </tr>\n",
              "  </thead>\n",
              "  <tbody>\n",
              "    <tr>\n",
              "      <th>0</th>\n",
              "      <td>1083</td>\n",
              "      <td>1367</td>\n",
              "      <td>373</td>\n",
              "    </tr>\n",
              "  </tbody>\n",
              "</table>\n",
              "</div>"
            ],
            "text/plain": [
              "   Cluster1  Cluster2  Cluster3\n",
              "0      1083      1367       373"
            ]
          },
          "execution_count": 228,
          "metadata": {},
          "output_type": "execute_result"
        }
      ],
      "source": [
        "counts_df.head()"
      ]
    },
    {
      "cell_type": "markdown",
      "id": "8e04e87f",
      "metadata": {
        "id": "8e04e87f"
      },
      "source": [
        "## Visualization"
      ]
    },
    {
      "cell_type": "code",
      "execution_count": null,
      "id": "670a0f24",
      "metadata": {
        "id": "670a0f24"
      },
      "outputs": [],
      "source": [
        "pca = PCA(n_components=2) #Converting all the features into 2 columns to make it easy to visualize using Principal COmponent Analysis."
      ]
    },
    {
      "cell_type": "code",
      "execution_count": null,
      "id": "9f298beb",
      "metadata": {
        "id": "9f298beb"
      },
      "outputs": [],
      "source": [
        "reduced_X = pd.DataFrame(pca.fit_transform(X_train),columns=['PCA1','PCA2']) #Creating a DataFrame."
      ]
    },
    {
      "cell_type": "code",
      "execution_count": null,
      "id": "f526a136",
      "metadata": {
        "id": "f526a136",
        "outputId": "455234e3-b28d-45fd-cfc2-19e8f18f1c19"
      },
      "outputs": [
        {
          "data": {
            "text/html": [
              "<div>\n",
              "<style scoped>\n",
              "    .dataframe tbody tr th:only-of-type {\n",
              "        vertical-align: middle;\n",
              "    }\n",
              "\n",
              "    .dataframe tbody tr th {\n",
              "        vertical-align: top;\n",
              "    }\n",
              "\n",
              "    .dataframe thead th {\n",
              "        text-align: right;\n",
              "    }\n",
              "</style>\n",
              "<table border=\"1\" class=\"dataframe\">\n",
              "  <thead>\n",
              "    <tr style=\"text-align: right;\">\n",
              "      <th></th>\n",
              "      <th>PCA1</th>\n",
              "      <th>PCA2</th>\n",
              "    </tr>\n",
              "  </thead>\n",
              "  <tbody>\n",
              "    <tr>\n",
              "      <th>0</th>\n",
              "      <td>-682.488323</td>\n",
              "      <td>-42.819535</td>\n",
              "    </tr>\n",
              "    <tr>\n",
              "      <th>1</th>\n",
              "      <td>-787.665502</td>\n",
              "      <td>-41.694991</td>\n",
              "    </tr>\n",
              "    <tr>\n",
              "      <th>2</th>\n",
              "      <td>330.732170</td>\n",
              "      <td>-26.481208</td>\n",
              "    </tr>\n",
              "    <tr>\n",
              "      <th>3</th>\n",
              "      <td>193.040232</td>\n",
              "      <td>-26.285766</td>\n",
              "    </tr>\n",
              "    <tr>\n",
              "      <th>4</th>\n",
              "      <td>1651.532874</td>\n",
              "      <td>-6.891196</td>\n",
              "    </tr>\n",
              "  </tbody>\n",
              "</table>\n",
              "</div>"
            ],
            "text/plain": [
              "          PCA1       PCA2\n",
              "0  -682.488323 -42.819535\n",
              "1  -787.665502 -41.694991\n",
              "2   330.732170 -26.481208\n",
              "3   193.040232 -26.285766\n",
              "4  1651.532874  -6.891196"
            ]
          },
          "execution_count": 231,
          "metadata": {},
          "output_type": "execute_result"
        }
      ],
      "source": [
        "reduced_X.head()"
      ]
    },
    {
      "cell_type": "code",
      "execution_count": null,
      "id": "d49ec734",
      "metadata": {
        "id": "d49ec734",
        "outputId": "f55357a6-58d5-4527-a487-a31b579242c8"
      },
      "outputs": [
        {
          "data": {
            "text/plain": [
              "<matplotlib.collections.PathCollection at 0x218dc747880>"
            ]
          },
          "execution_count": 232,
          "metadata": {},
          "output_type": "execute_result"
        },
        {
          "data": {
            "image/png": "[encoded data removed]",
            "text/plain": [
              "<Figure size 1008x720 with 1 Axes>"
            ]
          },
          "metadata": {
            "needs_background": "light"
          },
          "output_type": "display_data"
        }
      ],
      "source": [
        "#Plotting the normal Scatter Plot\n",
        "plt.figure(figsize=(14,10))\n",
        "plt.scatter(reduced_X['PCA1'],reduced_X['PCA2'])"
      ]
    },
    {
      "cell_type": "code",
      "execution_count": null,
      "id": "a1babe44",
      "metadata": {
        "id": "a1babe44",
        "outputId": "d750ab02-9adc-4606-c3e3-2aa102cea057"
      },
      "outputs": [
        {
          "data": {
            "text/plain": [
              "array([[ 3.72031394e+01,  9.52120960e+01,  6.44967682e+00,\n",
              "         4.13868425e+03,  2.72022161e+00,  7.09879963e+00,\n",
              "         2.00379409e+03,  1.13248384e+02,  5.04469067e+01,\n",
              "         3.74884580e-01,  1.15420129e-01,  9.41828255e-02,\n",
              "         8.21791320e-02,  1.84672207e-02,  1.16343490e-01,\n",
              "         1.98522622e-01,  2.08166817e-17,  1.00000000e+00,\n",
              "        -6.66133815e-16],\n",
              "       [ 3.08302853e+01,  7.00755230e+01,  6.67300658e+00,\n",
              "         2.12409474e+03,  2.71762985e+00,  7.09509876e+00,\n",
              "         2.00381127e+03,  7.84784199e+01,  6.24871982e+01,\n",
              "         2.64813460e-01,  1.21433797e-01,  1.29480614e-01,\n",
              "         1.00219459e-01,  3.87710315e-02,  9.21726408e-02,\n",
              "         2.53108998e-01,  6.93889390e-18,  6.21799561e-02,\n",
              "         9.37820044e-01],\n",
              "       [ 4.45871314e+01,  9.98931099e+01,  5.75603217e+00,\n",
              "         7.09596863e+03,  2.71045576e+00,  7.06434316e+00,\n",
              "         2.00389008e+03,  1.45823056e+02,  3.14959786e+01,\n",
              "         5.33512064e-01,  1.07238606e-01,  7.23860590e-02,\n",
              "         2.14477212e-02,  1.07238606e-02,  1.31367292e-01,\n",
              "         1.23324397e-01,  4.20911528e-01,  5.79088472e-01,\n",
              "         5.55111512e-17]])"
            ]
          },
          "execution_count": 233,
          "metadata": {},
          "output_type": "execute_result"
        }
      ],
      "source": [
        "model.cluster_centers_ #Finding the centriods. (3 Centriods in total. Each Array contains a centroids for particular feature )"
      ]
    },
    {
      "cell_type": "code",
      "execution_count": null,
      "id": "b5263150",
      "metadata": {
        "id": "b5263150"
      },
      "outputs": [],
      "source": [
        "reduced_centers = pca.transform(model.cluster_centers_) #Transforming the centroids into 3 in x and y coordinates"
      ]
    },
    {
      "cell_type": "code",
      "execution_count": null,
      "id": "39f26484",
      "metadata": {
        "id": "39f26484",
        "outputId": "2949822a-31d0-4921-b304-6bd17bf747ad"
      },
      "outputs": [
        {
          "data": {
            "text/plain": [
              "array([[ 5.84994044e+02, -4.36786931e+00],\n",
              "       [-1.43005891e+03,  2.60041009e+00],\n",
              "       [ 3.54247180e+03,  3.15185487e+00]])"
            ]
          },
          "execution_count": 235,
          "metadata": {},
          "output_type": "execute_result"
        }
      ],
      "source": [
        "reduced_centers"
      ]
    },
    {
      "cell_type": "code",
      "execution_count": null,
      "id": "05c306fe",
      "metadata": {
        "id": "05c306fe",
        "outputId": "853eb1e9-5a43-4c2e-c62c-a4bb0928cf36"
      },
      "outputs": [
        {
          "data": {
            "text/plain": [
              "<matplotlib.collections.PathCollection at 0x218deb6e220>"
            ]
          },
          "execution_count": 236,
          "metadata": {},
          "output_type": "execute_result"
        },
        {
          "data": {
            "image/png": "[encoded data removed]",
            "text/plain": [
              "<Figure size 1008x720 with 1 Axes>"
            ]
          },
          "metadata": {
            "needs_background": "light"
          },
          "output_type": "display_data"
        }
      ],
      "source": [
        "plt.figure(figsize=(14,10))\n",
        "plt.scatter(reduced_X['PCA1'],reduced_X['PCA2'])\n",
        "plt.scatter(reduced_centers[:,0],reduced_centers[:,1],color='black',marker='x',s=300) #Plotting the centriods"
      ]
    },
    {
      "cell_type": "code",
      "execution_count": null,
      "id": "0e5583a0",
      "metadata": {
        "id": "0e5583a0"
      },
      "outputs": [],
      "source": [
        "reduced_X['Clusters'] = predictions #Adding the Clusters to the reduced dataframe."
      ]
    },
    {
      "cell_type": "code",
      "execution_count": null,
      "id": "e60df3dd",
      "metadata": {
        "id": "e60df3dd",
        "outputId": "81023e9f-51f4-4813-f57e-f867d5be67b9"
      },
      "outputs": [
        {
          "data": {
            "text/html": [
              "<div>\n",
              "<style scoped>\n",
              "    .dataframe tbody tr th:only-of-type {\n",
              "        vertical-align: middle;\n",
              "    }\n",
              "\n",
              "    .dataframe tbody tr th {\n",
              "        vertical-align: top;\n",
              "    }\n",
              "\n",
              "    .dataframe thead th {\n",
              "        text-align: right;\n",
              "    }\n",
              "</style>\n",
              "<table border=\"1\" class=\"dataframe\">\n",
              "  <thead>\n",
              "    <tr style=\"text-align: right;\">\n",
              "      <th></th>\n",
              "      <th>PCA1</th>\n",
              "      <th>PCA2</th>\n",
              "      <th>Clusters</th>\n",
              "    </tr>\n",
              "  </thead>\n",
              "  <tbody>\n",
              "    <tr>\n",
              "      <th>0</th>\n",
              "      <td>-682.488323</td>\n",
              "      <td>-42.819535</td>\n",
              "      <td>1</td>\n",
              "    </tr>\n",
              "    <tr>\n",
              "      <th>1</th>\n",
              "      <td>-787.665502</td>\n",
              "      <td>-41.694991</td>\n",
              "      <td>1</td>\n",
              "    </tr>\n",
              "    <tr>\n",
              "      <th>2</th>\n",
              "      <td>330.732170</td>\n",
              "      <td>-26.481208</td>\n",
              "      <td>0</td>\n",
              "    </tr>\n",
              "    <tr>\n",
              "      <th>3</th>\n",
              "      <td>193.040232</td>\n",
              "      <td>-26.285766</td>\n",
              "      <td>0</td>\n",
              "    </tr>\n",
              "    <tr>\n",
              "      <th>4</th>\n",
              "      <td>1651.532874</td>\n",
              "      <td>-6.891196</td>\n",
              "      <td>0</td>\n",
              "    </tr>\n",
              "  </tbody>\n",
              "</table>\n",
              "</div>"
            ],
            "text/plain": [
              "          PCA1       PCA2  Clusters\n",
              "0  -682.488323 -42.819535         1\n",
              "1  -787.665502 -41.694991         1\n",
              "2   330.732170 -26.481208         0\n",
              "3   193.040232 -26.285766         0\n",
              "4  1651.532874  -6.891196         0"
            ]
          },
          "execution_count": 238,
          "metadata": {},
          "output_type": "execute_result"
        }
      ],
      "source": [
        "reduced_X.head()"
      ]
    },
    {
      "cell_type": "code",
      "execution_count": null,
      "id": "6133cf11",
      "metadata": {
        "id": "6133cf11",
        "outputId": "c878b431-a09c-4eba-df28-c91bb763780f"
      },
      "outputs": [
        {
          "data": {
            "text/plain": [
              "<matplotlib.collections.PathCollection at 0x218dce9e1f0>"
            ]
          },
          "execution_count": 239,
          "metadata": {},
          "output_type": "execute_result"
        },
        {
          "data": {
            "image/png": "[encoded data removed]",
            "text/plain": [
              "<Figure size 1008x720 with 1 Axes>"
            ]
          },
          "metadata": {
            "needs_background": "light"
          },
          "output_type": "display_data"
        }
      ],
      "source": [
        "#Plotting the clusters\n",
        "plt.figure(figsize=(14,10))\n",
        "#                     taking the cluster number and first column           taking the same cluster number and second column      Assigning the color\n",
        "plt.scatter(reduced_X[reduced_X['Clusters'] == 0].loc[:,'PCA1'],reduced_X[reduced_X['Clusters'] == 0].loc[:,'PCA2'],color='slateblue')\n",
        "plt.scatter(reduced_X[reduced_X['Clusters'] == 1].loc[:,'PCA1'],reduced_X[reduced_X['Clusters'] == 1].loc[:,'PCA2'],color='springgreen')\n",
        "plt.scatter(reduced_X[reduced_X['Clusters'] == 2].loc[:,'PCA1'],reduced_X[reduced_X['Clusters'] == 2].loc[:,'PCA2'],color='indigo')\n",
        "\n",
        "\n",
        "plt.scatter(reduced_centers[:,0],reduced_centers[:,1],color='black',marker='x',s=300)"
      ]
    },
    {
      "cell_type": "code",
      "execution_count": null,
      "id": "13e992c1",
      "metadata": {
        "id": "13e992c1"
      },
      "outputs": [],
      "source": []
    }
  ],
  "metadata": {
    "kernelspec": {
      "display_name": "Python 3",
      "language": "python",
      "name": "python3"
    },
    "language_info": {
      "codemirror_mode": {
        "name": "ipython",
        "version": 3
      },
      "file_extension": ".py",
      "mimetype": "text/x-python",
      "name": "python",
      "nbconvert_exporter": "python",
      "pygments_lexer": "ipython3",
      "version": "3.8.8"
    },
    "colab": {
      "provenance": []
    }
  },
  "nbformat": 4,
  "nbformat_minor": 5
}