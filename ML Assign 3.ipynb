{
  "cells": [
    {
      "cell_type": "markdown",
      "id": "1803f417",
      "metadata": {
        "id": "1803f417"
      },
      "source": [
        "# Given a bank customer, build a neural network-based classifier that can determine whether they will leave or not in the next 6 months.\n",
        "Dataset Description: The case study is from an open-source dataset from Kaggle. The dataset contains 10,000 sample points with 14 distinct features such as CustomerId, CreditScore, Geography, Gender, Age, Tenure, Balance, etc.\n",
        "Link to the Kaggle project: https://www.kaggle.com/barelydedicated/bank-customer-churn-modeling Perform following steps:\n",
        "1.\tRead the dataset.\n",
        "2.\tDistinguish the feature and target set and divide the data set into training and test sets.\n",
        "3.\tNormalize the train and test data.\n",
        "4.\tInitialize and build the model. Identify the points of improvement and implement the same.\n",
        "5.\tPrint the accuracy score and confusion matrix.\n",
        ""
      ]
    },
    {
      "cell_type": "code",
      "execution_count": null,
      "id": "1c7a9833",
      "metadata": {
        "id": "1c7a9833"
      },
      "outputs": [],
      "source": [
        "import pandas as pd\n",
        "import numpy as np\n",
        "import seaborn as sns\n",
        "import matplotlib.pyplot as plt #Importing the libraries"
      ]
    },
    {
      "cell_type": "code",
      "execution_count": null,
      "id": "5e325ee1",
      "metadata": {
        "id": "5e325ee1"
      },
      "outputs": [],
      "source": [
        "df = pd.read_csv(\"Churn_Modelling.csv\")"
      ]
    },
    {
      "cell_type": "markdown",
      "id": "96e1c556",
      "metadata": {
        "id": "96e1c556"
      },
      "source": [
        "# Preprocessing."
      ]
    },
    {
      "cell_type": "code",
      "execution_count": null,
      "id": "ae17ce38",
      "metadata": {
        "id": "ae17ce38",
        "outputId": "f6d231d1-fc79-41e8-b415-c873cf45a834"
      },
      "outputs": [
        {
          "data": {
            "text/html": [
              "<div>\n",
              "<style scoped>\n",
              "    .dataframe tbody tr th:only-of-type {\n",
              "        vertical-align: middle;\n",
              "    }\n",
              "\n",
              "    .dataframe tbody tr th {\n",
              "        vertical-align: top;\n",
              "    }\n",
              "\n",
              "    .dataframe thead th {\n",
              "        text-align: right;\n",
              "    }\n",
              "</style>\n",
              "<table border=\"1\" class=\"dataframe\">\n",
              "  <thead>\n",
              "    <tr style=\"text-align: right;\">\n",
              "      <th></th>\n",
              "      <th>RowNumber</th>\n",
              "      <th>CustomerId</th>\n",
              "      <th>Surname</th>\n",
              "      <th>CreditScore</th>\n",
              "      <th>Geography</th>\n",
              "      <th>Gender</th>\n",
              "      <th>Age</th>\n",
              "      <th>Tenure</th>\n",
              "      <th>Balance</th>\n",
              "      <th>NumOfProducts</th>\n",
              "      <th>HasCrCard</th>\n",
              "      <th>IsActiveMember</th>\n",
              "      <th>EstimatedSalary</th>\n",
              "      <th>Exited</th>\n",
              "    </tr>\n",
              "  </thead>\n",
              "  <tbody>\n",
              "    <tr>\n",
              "      <th>0</th>\n",
              "      <td>1</td>\n",
              "      <td>15634602</td>\n",
              "      <td>Hargrave</td>\n",
              "      <td>619</td>\n",
              "      <td>France</td>\n",
              "      <td>Female</td>\n",
              "      <td>42</td>\n",
              "      <td>2</td>\n",
              "      <td>0.00</td>\n",
              "      <td>1</td>\n",
              "      <td>1</td>\n",
              "      <td>1</td>\n",
              "      <td>101348.88</td>\n",
              "      <td>1</td>\n",
              "    </tr>\n",
              "    <tr>\n",
              "      <th>1</th>\n",
              "      <td>2</td>\n",
              "      <td>15647311</td>\n",
              "      <td>Hill</td>\n",
              "      <td>608</td>\n",
              "      <td>Spain</td>\n",
              "      <td>Female</td>\n",
              "      <td>41</td>\n",
              "      <td>1</td>\n",
              "      <td>83807.86</td>\n",
              "      <td>1</td>\n",
              "      <td>0</td>\n",
              "      <td>1</td>\n",
              "      <td>112542.58</td>\n",
              "      <td>0</td>\n",
              "    </tr>\n",
              "    <tr>\n",
              "      <th>2</th>\n",
              "      <td>3</td>\n",
              "      <td>15619304</td>\n",
              "      <td>Onio</td>\n",
              "      <td>502</td>\n",
              "      <td>France</td>\n",
              "      <td>Female</td>\n",
              "      <td>42</td>\n",
              "      <td>8</td>\n",
              "      <td>159660.80</td>\n",
              "      <td>3</td>\n",
              "      <td>1</td>\n",
              "      <td>0</td>\n",
              "      <td>113931.57</td>\n",
              "      <td>1</td>\n",
              "    </tr>\n",
              "    <tr>\n",
              "      <th>3</th>\n",
              "      <td>4</td>\n",
              "      <td>15701354</td>\n",
              "      <td>Boni</td>\n",
              "      <td>699</td>\n",
              "      <td>France</td>\n",
              "      <td>Female</td>\n",
              "      <td>39</td>\n",
              "      <td>1</td>\n",
              "      <td>0.00</td>\n",
              "      <td>2</td>\n",
              "      <td>0</td>\n",
              "      <td>0</td>\n",
              "      <td>93826.63</td>\n",
              "      <td>0</td>\n",
              "    </tr>\n",
              "    <tr>\n",
              "      <th>4</th>\n",
              "      <td>5</td>\n",
              "      <td>15737888</td>\n",
              "      <td>Mitchell</td>\n",
              "      <td>850</td>\n",
              "      <td>Spain</td>\n",
              "      <td>Female</td>\n",
              "      <td>43</td>\n",
              "      <td>2</td>\n",
              "      <td>125510.82</td>\n",
              "      <td>1</td>\n",
              "      <td>1</td>\n",
              "      <td>1</td>\n",
              "      <td>79084.10</td>\n",
              "      <td>0</td>\n",
              "    </tr>\n",
              "  </tbody>\n",
              "</table>\n",
              "</div>"
            ],
            "text/plain": [
              "   RowNumber  CustomerId   Surname  CreditScore Geography  Gender  Age  \\\n",
              "0          1    15634602  Hargrave          619    France  Female   42   \n",
              "1          2    15647311      Hill          608     Spain  Female   41   \n",
              "2          3    15619304      Onio          502    France  Female   42   \n",
              "3          4    15701354      Boni          699    France  Female   39   \n",
              "4          5    15737888  Mitchell          850     Spain  Female   43   \n",
              "\n",
              "   Tenure    Balance  NumOfProducts  HasCrCard  IsActiveMember  \\\n",
              "0       2       0.00              1          1               1   \n",
              "1       1   83807.86              1          0               1   \n",
              "2       8  159660.80              3          1               0   \n",
              "3       1       0.00              2          0               0   \n",
              "4       2  125510.82              1          1               1   \n",
              "\n",
              "   EstimatedSalary  Exited  \n",
              "0        101348.88       1  \n",
              "1        112542.58       0  \n",
              "2        113931.57       1  \n",
              "3         93826.63       0  \n",
              "4         79084.10       0  "
            ]
          },
          "execution_count": 48,
          "metadata": {},
          "output_type": "execute_result"
        }
      ],
      "source": [
        "df.head()"
      ]
    },
    {
      "cell_type": "code",
      "execution_count": null,
      "id": "13617c12",
      "metadata": {
        "id": "13617c12",
        "outputId": "b70f4e35-22cd-48d3-a6fd-e988eeb71659"
      },
      "outputs": [
        {
          "data": {
            "text/plain": [
              "(10000, 14)"
            ]
          },
          "execution_count": 49,
          "metadata": {},
          "output_type": "execute_result"
        }
      ],
      "source": [
        "df.shape"
      ]
    },
    {
      "cell_type": "code",
      "execution_count": null,
      "id": "09a88d86",
      "metadata": {
        "id": "09a88d86",
        "outputId": "0d7d0111-28b4-464d-a597-375a1c18fc6f"
      },
      "outputs": [
        {
          "data": {
            "text/html": [
              "<div>\n",
              "<style scoped>\n",
              "    .dataframe tbody tr th:only-of-type {\n",
              "        vertical-align: middle;\n",
              "    }\n",
              "\n",
              "    .dataframe tbody tr th {\n",
              "        vertical-align: top;\n",
              "    }\n",
              "\n",
              "    .dataframe thead th {\n",
              "        text-align: right;\n",
              "    }\n",
              "</style>\n",
              "<table border=\"1\" class=\"dataframe\">\n",
              "  <thead>\n",
              "    <tr style=\"text-align: right;\">\n",
              "      <th></th>\n",
              "      <th>RowNumber</th>\n",
              "      <th>CustomerId</th>\n",
              "      <th>CreditScore</th>\n",
              "      <th>Age</th>\n",
              "      <th>Tenure</th>\n",
              "      <th>Balance</th>\n",
              "      <th>NumOfProducts</th>\n",
              "      <th>HasCrCard</th>\n",
              "      <th>IsActiveMember</th>\n",
              "      <th>EstimatedSalary</th>\n",
              "      <th>Exited</th>\n",
              "    </tr>\n",
              "  </thead>\n",
              "  <tbody>\n",
              "    <tr>\n",
              "      <th>count</th>\n",
              "      <td>10000.00000</td>\n",
              "      <td>1.000000e+04</td>\n",
              "      <td>10000.000000</td>\n",
              "      <td>10000.000000</td>\n",
              "      <td>10000.000000</td>\n",
              "      <td>10000.000000</td>\n",
              "      <td>10000.000000</td>\n",
              "      <td>10000.00000</td>\n",
              "      <td>10000.000000</td>\n",
              "      <td>10000.000000</td>\n",
              "      <td>10000.000000</td>\n",
              "    </tr>\n",
              "    <tr>\n",
              "      <th>mean</th>\n",
              "      <td>5000.50000</td>\n",
              "      <td>1.569094e+07</td>\n",
              "      <td>650.528800</td>\n",
              "      <td>38.921800</td>\n",
              "      <td>5.012800</td>\n",
              "      <td>76485.889288</td>\n",
              "      <td>1.530200</td>\n",
              "      <td>0.70550</td>\n",
              "      <td>0.515100</td>\n",
              "      <td>100090.239881</td>\n",
              "      <td>0.203700</td>\n",
              "    </tr>\n",
              "    <tr>\n",
              "      <th>std</th>\n",
              "      <td>2886.89568</td>\n",
              "      <td>7.193619e+04</td>\n",
              "      <td>96.653299</td>\n",
              "      <td>10.487806</td>\n",
              "      <td>2.892174</td>\n",
              "      <td>62397.405202</td>\n",
              "      <td>0.581654</td>\n",
              "      <td>0.45584</td>\n",
              "      <td>0.499797</td>\n",
              "      <td>57510.492818</td>\n",
              "      <td>0.402769</td>\n",
              "    </tr>\n",
              "    <tr>\n",
              "      <th>min</th>\n",
              "      <td>1.00000</td>\n",
              "      <td>1.556570e+07</td>\n",
              "      <td>350.000000</td>\n",
              "      <td>18.000000</td>\n",
              "      <td>0.000000</td>\n",
              "      <td>0.000000</td>\n",
              "      <td>1.000000</td>\n",
              "      <td>0.00000</td>\n",
              "      <td>0.000000</td>\n",
              "      <td>11.580000</td>\n",
              "      <td>0.000000</td>\n",
              "    </tr>\n",
              "    <tr>\n",
              "      <th>25%</th>\n",
              "      <td>2500.75000</td>\n",
              "      <td>1.562853e+07</td>\n",
              "      <td>584.000000</td>\n",
              "      <td>32.000000</td>\n",
              "      <td>3.000000</td>\n",
              "      <td>0.000000</td>\n",
              "      <td>1.000000</td>\n",
              "      <td>0.00000</td>\n",
              "      <td>0.000000</td>\n",
              "      <td>51002.110000</td>\n",
              "      <td>0.000000</td>\n",
              "    </tr>\n",
              "    <tr>\n",
              "      <th>50%</th>\n",
              "      <td>5000.50000</td>\n",
              "      <td>1.569074e+07</td>\n",
              "      <td>652.000000</td>\n",
              "      <td>37.000000</td>\n",
              "      <td>5.000000</td>\n",
              "      <td>97198.540000</td>\n",
              "      <td>1.000000</td>\n",
              "      <td>1.00000</td>\n",
              "      <td>1.000000</td>\n",
              "      <td>100193.915000</td>\n",
              "      <td>0.000000</td>\n",
              "    </tr>\n",
              "    <tr>\n",
              "      <th>75%</th>\n",
              "      <td>7500.25000</td>\n",
              "      <td>1.575323e+07</td>\n",
              "      <td>718.000000</td>\n",
              "      <td>44.000000</td>\n",
              "      <td>7.000000</td>\n",
              "      <td>127644.240000</td>\n",
              "      <td>2.000000</td>\n",
              "      <td>1.00000</td>\n",
              "      <td>1.000000</td>\n",
              "      <td>149388.247500</td>\n",
              "      <td>0.000000</td>\n",
              "    </tr>\n",
              "    <tr>\n",
              "      <th>max</th>\n",
              "      <td>10000.00000</td>\n",
              "      <td>1.581569e+07</td>\n",
              "      <td>850.000000</td>\n",
              "      <td>92.000000</td>\n",
              "      <td>10.000000</td>\n",
              "      <td>250898.090000</td>\n",
              "      <td>4.000000</td>\n",
              "      <td>1.00000</td>\n",
              "      <td>1.000000</td>\n",
              "      <td>199992.480000</td>\n",
              "      <td>1.000000</td>\n",
              "    </tr>\n",
              "  </tbody>\n",
              "</table>\n",
              "</div>"
            ],
            "text/plain": [
              "         RowNumber    CustomerId   CreditScore           Age        Tenure  \\\n",
              "count  10000.00000  1.000000e+04  10000.000000  10000.000000  10000.000000   \n",
              "mean    5000.50000  1.569094e+07    650.528800     38.921800      5.012800   \n",
              "std     2886.89568  7.193619e+04     96.653299     10.487806      2.892174   \n",
              "min        1.00000  1.556570e+07    350.000000     18.000000      0.000000   \n",
              "25%     2500.75000  1.562853e+07    584.000000     32.000000      3.000000   \n",
              "50%     5000.50000  1.569074e+07    652.000000     37.000000      5.000000   \n",
              "75%     7500.25000  1.575323e+07    718.000000     44.000000      7.000000   \n",
              "max    10000.00000  1.581569e+07    850.000000     92.000000     10.000000   \n",
              "\n",
              "             Balance  NumOfProducts    HasCrCard  IsActiveMember  \\\n",
              "count   10000.000000   10000.000000  10000.00000    10000.000000   \n",
              "mean    76485.889288       1.530200      0.70550        0.515100   \n",
              "std     62397.405202       0.581654      0.45584        0.499797   \n",
              "min         0.000000       1.000000      0.00000        0.000000   \n",
              "25%         0.000000       1.000000      0.00000        0.000000   \n",
              "50%     97198.540000       1.000000      1.00000        1.000000   \n",
              "75%    127644.240000       2.000000      1.00000        1.000000   \n",
              "max    250898.090000       4.000000      1.00000        1.000000   \n",
              "\n",
              "       EstimatedSalary        Exited  \n",
              "count     10000.000000  10000.000000  \n",
              "mean     100090.239881      0.203700  \n",
              "std       57510.492818      0.402769  \n",
              "min          11.580000      0.000000  \n",
              "25%       51002.110000      0.000000  \n",
              "50%      100193.915000      0.000000  \n",
              "75%      149388.247500      0.000000  \n",
              "max      199992.480000      1.000000  "
            ]
          },
          "execution_count": 50,
          "metadata": {},
          "output_type": "execute_result"
        }
      ],
      "source": [
        "df.describe()"
      ]
    },
    {
      "cell_type": "code",
      "execution_count": null,
      "id": "dad37df4",
      "metadata": {
        "id": "dad37df4",
        "outputId": "87c4e641-a23d-41ac-e3c0-353553408b7e"
      },
      "outputs": [
        {
          "data": {
            "text/html": [
              "<div>\n",
              "<style scoped>\n",
              "    .dataframe tbody tr th:only-of-type {\n",
              "        vertical-align: middle;\n",
              "    }\n",
              "\n",
              "    .dataframe tbody tr th {\n",
              "        vertical-align: top;\n",
              "    }\n",
              "\n",
              "    .dataframe thead th {\n",
              "        text-align: right;\n",
              "    }\n",
              "</style>\n",
              "<table border=\"1\" class=\"dataframe\">\n",
              "  <thead>\n",
              "    <tr style=\"text-align: right;\">\n",
              "      <th></th>\n",
              "      <th>RowNumber</th>\n",
              "      <th>CustomerId</th>\n",
              "      <th>Surname</th>\n",
              "      <th>CreditScore</th>\n",
              "      <th>Geography</th>\n",
              "      <th>Gender</th>\n",
              "      <th>Age</th>\n",
              "      <th>Tenure</th>\n",
              "      <th>Balance</th>\n",
              "      <th>NumOfProducts</th>\n",
              "      <th>HasCrCard</th>\n",
              "      <th>IsActiveMember</th>\n",
              "      <th>EstimatedSalary</th>\n",
              "      <th>Exited</th>\n",
              "    </tr>\n",
              "  </thead>\n",
              "  <tbody>\n",
              "    <tr>\n",
              "      <th>0</th>\n",
              "      <td>False</td>\n",
              "      <td>False</td>\n",
              "      <td>False</td>\n",
              "      <td>False</td>\n",
              "      <td>False</td>\n",
              "      <td>False</td>\n",
              "      <td>False</td>\n",
              "      <td>False</td>\n",
              "      <td>False</td>\n",
              "      <td>False</td>\n",
              "      <td>False</td>\n",
              "      <td>False</td>\n",
              "      <td>False</td>\n",
              "      <td>False</td>\n",
              "    </tr>\n",
              "    <tr>\n",
              "      <th>1</th>\n",
              "      <td>False</td>\n",
              "      <td>False</td>\n",
              "      <td>False</td>\n",
              "      <td>False</td>\n",
              "      <td>False</td>\n",
              "      <td>False</td>\n",
              "      <td>False</td>\n",
              "      <td>False</td>\n",
              "      <td>False</td>\n",
              "      <td>False</td>\n",
              "      <td>False</td>\n",
              "      <td>False</td>\n",
              "      <td>False</td>\n",
              "      <td>False</td>\n",
              "    </tr>\n",
              "    <tr>\n",
              "      <th>2</th>\n",
              "      <td>False</td>\n",
              "      <td>False</td>\n",
              "      <td>False</td>\n",
              "      <td>False</td>\n",
              "      <td>False</td>\n",
              "      <td>False</td>\n",
              "      <td>False</td>\n",
              "      <td>False</td>\n",
              "      <td>False</td>\n",
              "      <td>False</td>\n",
              "      <td>False</td>\n",
              "      <td>False</td>\n",
              "      <td>False</td>\n",
              "      <td>False</td>\n",
              "    </tr>\n",
              "    <tr>\n",
              "      <th>3</th>\n",
              "      <td>False</td>\n",
              "      <td>False</td>\n",
              "      <td>False</td>\n",
              "      <td>False</td>\n",
              "      <td>False</td>\n",
              "      <td>False</td>\n",
              "      <td>False</td>\n",
              "      <td>False</td>\n",
              "      <td>False</td>\n",
              "      <td>False</td>\n",
              "      <td>False</td>\n",
              "      <td>False</td>\n",
              "      <td>False</td>\n",
              "      <td>False</td>\n",
              "    </tr>\n",
              "    <tr>\n",
              "      <th>4</th>\n",
              "      <td>False</td>\n",
              "      <td>False</td>\n",
              "      <td>False</td>\n",
              "      <td>False</td>\n",
              "      <td>False</td>\n",
              "      <td>False</td>\n",
              "      <td>False</td>\n",
              "      <td>False</td>\n",
              "      <td>False</td>\n",
              "      <td>False</td>\n",
              "      <td>False</td>\n",
              "      <td>False</td>\n",
              "      <td>False</td>\n",
              "      <td>False</td>\n",
              "    </tr>\n",
              "    <tr>\n",
              "      <th>...</th>\n",
              "      <td>...</td>\n",
              "      <td>...</td>\n",
              "      <td>...</td>\n",
              "      <td>...</td>\n",
              "      <td>...</td>\n",
              "      <td>...</td>\n",
              "      <td>...</td>\n",
              "      <td>...</td>\n",
              "      <td>...</td>\n",
              "      <td>...</td>\n",
              "      <td>...</td>\n",
              "      <td>...</td>\n",
              "      <td>...</td>\n",
              "      <td>...</td>\n",
              "    </tr>\n",
              "    <tr>\n",
              "      <th>9995</th>\n",
              "      <td>False</td>\n",
              "      <td>False</td>\n",
              "      <td>False</td>\n",
              "      <td>False</td>\n",
              "      <td>False</td>\n",
              "      <td>False</td>\n",
              "      <td>False</td>\n",
              "      <td>False</td>\n",
              "      <td>False</td>\n",
              "      <td>False</td>\n",
              "      <td>False</td>\n",
              "      <td>False</td>\n",
              "      <td>False</td>\n",
              "      <td>False</td>\n",
              "    </tr>\n",
              "    <tr>\n",
              "      <th>9996</th>\n",
              "      <td>False</td>\n",
              "      <td>False</td>\n",
              "      <td>False</td>\n",
              "      <td>False</td>\n",
              "      <td>False</td>\n",
              "      <td>False</td>\n",
              "      <td>False</td>\n",
              "      <td>False</td>\n",
              "      <td>False</td>\n",
              "      <td>False</td>\n",
              "      <td>False</td>\n",
              "      <td>False</td>\n",
              "      <td>False</td>\n",
              "      <td>False</td>\n",
              "    </tr>\n",
              "    <tr>\n",
              "      <th>9997</th>\n",
              "      <td>False</td>\n",
              "      <td>False</td>\n",
              "      <td>False</td>\n",
              "      <td>False</td>\n",
              "      <td>False</td>\n",
              "      <td>False</td>\n",
              "      <td>False</td>\n",
              "      <td>False</td>\n",
              "      <td>False</td>\n",
              "      <td>False</td>\n",
              "      <td>False</td>\n",
              "      <td>False</td>\n",
              "      <td>False</td>\n",
              "      <td>False</td>\n",
              "    </tr>\n",
              "    <tr>\n",
              "      <th>9998</th>\n",
              "      <td>False</td>\n",
              "      <td>False</td>\n",
              "      <td>False</td>\n",
              "      <td>False</td>\n",
              "      <td>False</td>\n",
              "      <td>False</td>\n",
              "      <td>False</td>\n",
              "      <td>False</td>\n",
              "      <td>False</td>\n",
              "      <td>False</td>\n",
              "      <td>False</td>\n",
              "      <td>False</td>\n",
              "      <td>False</td>\n",
              "      <td>False</td>\n",
              "    </tr>\n",
              "    <tr>\n",
              "      <th>9999</th>\n",
              "      <td>False</td>\n",
              "      <td>False</td>\n",
              "      <td>False</td>\n",
              "      <td>False</td>\n",
              "      <td>False</td>\n",
              "      <td>False</td>\n",
              "      <td>False</td>\n",
              "      <td>False</td>\n",
              "      <td>False</td>\n",
              "      <td>False</td>\n",
              "      <td>False</td>\n",
              "      <td>False</td>\n",
              "      <td>False</td>\n",
              "      <td>False</td>\n",
              "    </tr>\n",
              "  </tbody>\n",
              "</table>\n",
              "<p>10000 rows × 14 columns</p>\n",
              "</div>"
            ],
            "text/plain": [
              "      RowNumber  CustomerId  Surname  CreditScore  Geography  Gender    Age  \\\n",
              "0         False       False    False        False      False   False  False   \n",
              "1         False       False    False        False      False   False  False   \n",
              "2         False       False    False        False      False   False  False   \n",
              "3         False       False    False        False      False   False  False   \n",
              "4         False       False    False        False      False   False  False   \n",
              "...         ...         ...      ...          ...        ...     ...    ...   \n",
              "9995      False       False    False        False      False   False  False   \n",
              "9996      False       False    False        False      False   False  False   \n",
              "9997      False       False    False        False      False   False  False   \n",
              "9998      False       False    False        False      False   False  False   \n",
              "9999      False       False    False        False      False   False  False   \n",
              "\n",
              "      Tenure  Balance  NumOfProducts  HasCrCard  IsActiveMember  \\\n",
              "0      False    False          False      False           False   \n",
              "1      False    False          False      False           False   \n",
              "2      False    False          False      False           False   \n",
              "3      False    False          False      False           False   \n",
              "4      False    False          False      False           False   \n",
              "...      ...      ...            ...        ...             ...   \n",
              "9995   False    False          False      False           False   \n",
              "9996   False    False          False      False           False   \n",
              "9997   False    False          False      False           False   \n",
              "9998   False    False          False      False           False   \n",
              "9999   False    False          False      False           False   \n",
              "\n",
              "      EstimatedSalary  Exited  \n",
              "0               False   False  \n",
              "1               False   False  \n",
              "2               False   False  \n",
              "3               False   False  \n",
              "4               False   False  \n",
              "...               ...     ...  \n",
              "9995            False   False  \n",
              "9996            False   False  \n",
              "9997            False   False  \n",
              "9998            False   False  \n",
              "9999            False   False  \n",
              "\n",
              "[10000 rows x 14 columns]"
            ]
          },
          "execution_count": 51,
          "metadata": {},
          "output_type": "execute_result"
        }
      ],
      "source": [
        "df.isnull()"
      ]
    },
    {
      "cell_type": "code",
      "execution_count": null,
      "id": "14f20421",
      "metadata": {
        "id": "14f20421",
        "outputId": "0c28a0bf-94be-499b-923d-0883965771d3"
      },
      "outputs": [
        {
          "data": {
            "text/plain": [
              "RowNumber          0\n",
              "CustomerId         0\n",
              "Surname            0\n",
              "CreditScore        0\n",
              "Geography          0\n",
              "Gender             0\n",
              "Age                0\n",
              "Tenure             0\n",
              "Balance            0\n",
              "NumOfProducts      0\n",
              "HasCrCard          0\n",
              "IsActiveMember     0\n",
              "EstimatedSalary    0\n",
              "Exited             0\n",
              "dtype: int64"
            ]
          },
          "execution_count": 52,
          "metadata": {},
          "output_type": "execute_result"
        }
      ],
      "source": [
        "df.isnull().sum()"
      ]
    },
    {
      "cell_type": "code",
      "execution_count": null,
      "id": "1ca72a6c",
      "metadata": {
        "id": "1ca72a6c",
        "outputId": "c8bd448e-fc20-4826-9c11-087784fdcf5a"
      },
      "outputs": [
        {
          "name": "stdout",
          "output_type": "stream",
          "text": [
            "<class 'pandas.core.frame.DataFrame'>\n",
            "RangeIndex: 10000 entries, 0 to 9999\n",
            "Data columns (total 14 columns):\n",
            " #   Column           Non-Null Count  Dtype  \n",
            "---  ------           --------------  -----  \n",
            " 0   RowNumber        10000 non-null  int64  \n",
            " 1   CustomerId       10000 non-null  int64  \n",
            " 2   Surname          10000 non-null  object \n",
            " 3   CreditScore      10000 non-null  int64  \n",
            " 4   Geography        10000 non-null  object \n",
            " 5   Gender           10000 non-null  object \n",
            " 6   Age              10000 non-null  int64  \n",
            " 7   Tenure           10000 non-null  int64  \n",
            " 8   Balance          10000 non-null  float64\n",
            " 9   NumOfProducts    10000 non-null  int64  \n",
            " 10  HasCrCard        10000 non-null  int64  \n",
            " 11  IsActiveMember   10000 non-null  int64  \n",
            " 12  EstimatedSalary  10000 non-null  float64\n",
            " 13  Exited           10000 non-null  int64  \n",
            "dtypes: float64(2), int64(9), object(3)\n",
            "memory usage: 1.1+ MB\n"
          ]
        }
      ],
      "source": [
        "df.info()"
      ]
    },
    {
      "cell_type": "code",
      "execution_count": null,
      "id": "8d245f53",
      "metadata": {
        "id": "8d245f53",
        "outputId": "cb9d0287-e8e5-4829-fce6-abd48098e987"
      },
      "outputs": [
        {
          "data": {
            "text/plain": [
              "RowNumber            int64\n",
              "CustomerId           int64\n",
              "Surname             object\n",
              "CreditScore          int64\n",
              "Geography           object\n",
              "Gender              object\n",
              "Age                  int64\n",
              "Tenure               int64\n",
              "Balance            float64\n",
              "NumOfProducts        int64\n",
              "HasCrCard            int64\n",
              "IsActiveMember       int64\n",
              "EstimatedSalary    float64\n",
              "Exited               int64\n",
              "dtype: object"
            ]
          },
          "execution_count": 54,
          "metadata": {},
          "output_type": "execute_result"
        }
      ],
      "source": [
        "df.dtypes"
      ]
    },
    {
      "cell_type": "code",
      "execution_count": null,
      "id": "3605de14",
      "metadata": {
        "id": "3605de14",
        "outputId": "d56b53b7-435f-4197-c304-d11ebc5fbabd"
      },
      "outputs": [
        {
          "data": {
            "text/plain": [
              "Index(['RowNumber', 'CustomerId', 'Surname', 'CreditScore', 'Geography',\n",
              "       'Gender', 'Age', 'Tenure', 'Balance', 'NumOfProducts', 'HasCrCard',\n",
              "       'IsActiveMember', 'EstimatedSalary', 'Exited'],\n",
              "      dtype='object')"
            ]
          },
          "execution_count": 55,
          "metadata": {},
          "output_type": "execute_result"
        }
      ],
      "source": [
        "df.columns"
      ]
    },
    {
      "cell_type": "code",
      "execution_count": null,
      "id": "f29a1947",
      "metadata": {
        "id": "f29a1947"
      },
      "outputs": [],
      "source": [
        "df = df.drop(['RowNumber', 'Surname', 'CustomerId'], axis= 1) #Dropping the unnecessary columns"
      ]
    },
    {
      "cell_type": "code",
      "execution_count": null,
      "id": "4dedec85",
      "metadata": {
        "id": "4dedec85",
        "outputId": "e2f419a0-1dc6-4f9e-c3e0-5ffcb694d290"
      },
      "outputs": [
        {
          "data": {
            "text/html": [
              "<div>\n",
              "<style scoped>\n",
              "    .dataframe tbody tr th:only-of-type {\n",
              "        vertical-align: middle;\n",
              "    }\n",
              "\n",
              "    .dataframe tbody tr th {\n",
              "        vertical-align: top;\n",
              "    }\n",
              "\n",
              "    .dataframe thead th {\n",
              "        text-align: right;\n",
              "    }\n",
              "</style>\n",
              "<table border=\"1\" class=\"dataframe\">\n",
              "  <thead>\n",
              "    <tr style=\"text-align: right;\">\n",
              "      <th></th>\n",
              "      <th>CreditScore</th>\n",
              "      <th>Geography</th>\n",
              "      <th>Gender</th>\n",
              "      <th>Age</th>\n",
              "      <th>Tenure</th>\n",
              "      <th>Balance</th>\n",
              "      <th>NumOfProducts</th>\n",
              "      <th>HasCrCard</th>\n",
              "      <th>IsActiveMember</th>\n",
              "      <th>EstimatedSalary</th>\n",
              "      <th>Exited</th>\n",
              "    </tr>\n",
              "  </thead>\n",
              "  <tbody>\n",
              "    <tr>\n",
              "      <th>0</th>\n",
              "      <td>619</td>\n",
              "      <td>France</td>\n",
              "      <td>Female</td>\n",
              "      <td>42</td>\n",
              "      <td>2</td>\n",
              "      <td>0.00</td>\n",
              "      <td>1</td>\n",
              "      <td>1</td>\n",
              "      <td>1</td>\n",
              "      <td>101348.88</td>\n",
              "      <td>1</td>\n",
              "    </tr>\n",
              "    <tr>\n",
              "      <th>1</th>\n",
              "      <td>608</td>\n",
              "      <td>Spain</td>\n",
              "      <td>Female</td>\n",
              "      <td>41</td>\n",
              "      <td>1</td>\n",
              "      <td>83807.86</td>\n",
              "      <td>1</td>\n",
              "      <td>0</td>\n",
              "      <td>1</td>\n",
              "      <td>112542.58</td>\n",
              "      <td>0</td>\n",
              "    </tr>\n",
              "    <tr>\n",
              "      <th>2</th>\n",
              "      <td>502</td>\n",
              "      <td>France</td>\n",
              "      <td>Female</td>\n",
              "      <td>42</td>\n",
              "      <td>8</td>\n",
              "      <td>159660.80</td>\n",
              "      <td>3</td>\n",
              "      <td>1</td>\n",
              "      <td>0</td>\n",
              "      <td>113931.57</td>\n",
              "      <td>1</td>\n",
              "    </tr>\n",
              "    <tr>\n",
              "      <th>3</th>\n",
              "      <td>699</td>\n",
              "      <td>France</td>\n",
              "      <td>Female</td>\n",
              "      <td>39</td>\n",
              "      <td>1</td>\n",
              "      <td>0.00</td>\n",
              "      <td>2</td>\n",
              "      <td>0</td>\n",
              "      <td>0</td>\n",
              "      <td>93826.63</td>\n",
              "      <td>0</td>\n",
              "    </tr>\n",
              "    <tr>\n",
              "      <th>4</th>\n",
              "      <td>850</td>\n",
              "      <td>Spain</td>\n",
              "      <td>Female</td>\n",
              "      <td>43</td>\n",
              "      <td>2</td>\n",
              "      <td>125510.82</td>\n",
              "      <td>1</td>\n",
              "      <td>1</td>\n",
              "      <td>1</td>\n",
              "      <td>79084.10</td>\n",
              "      <td>0</td>\n",
              "    </tr>\n",
              "  </tbody>\n",
              "</table>\n",
              "</div>"
            ],
            "text/plain": [
              "   CreditScore Geography  Gender  Age  Tenure    Balance  NumOfProducts  \\\n",
              "0          619    France  Female   42       2       0.00              1   \n",
              "1          608     Spain  Female   41       1   83807.86              1   \n",
              "2          502    France  Female   42       8  159660.80              3   \n",
              "3          699    France  Female   39       1       0.00              2   \n",
              "4          850     Spain  Female   43       2  125510.82              1   \n",
              "\n",
              "   HasCrCard  IsActiveMember  EstimatedSalary  Exited  \n",
              "0          1               1        101348.88       1  \n",
              "1          0               1        112542.58       0  \n",
              "2          1               0        113931.57       1  \n",
              "3          0               0         93826.63       0  \n",
              "4          1               1         79084.10       0  "
            ]
          },
          "execution_count": 57,
          "metadata": {},
          "output_type": "execute_result"
        }
      ],
      "source": [
        "df.head()"
      ]
    },
    {
      "cell_type": "markdown",
      "id": "44410449",
      "metadata": {
        "id": "44410449"
      },
      "source": [
        "# Visualization"
      ]
    },
    {
      "cell_type": "code",
      "execution_count": null,
      "id": "724a60f4",
      "metadata": {
        "id": "724a60f4"
      },
      "outputs": [],
      "source": [
        "def visualization(x, y, xlabel):\n",
        "    plt.figure(figsize=(10,5))\n",
        "    plt.hist([x, y], color=['red', 'green'], label = ['exit', 'not_exit'])\n",
        "    plt.xlabel(xlabel,fontsize=20)\n",
        "    plt.ylabel(\"No. of customers\", fontsize=20)\n",
        "    plt.legend()"
      ]
    },
    {
      "cell_type": "code",
      "execution_count": null,
      "id": "17d2844f",
      "metadata": {
        "id": "17d2844f"
      },
      "outputs": [],
      "source": [
        "df_churn_exited = df[df['Exited']==1]['Tenure']\n",
        "df_churn_not_exited = df[df['Exited']==0]['Tenure']"
      ]
    },
    {
      "cell_type": "code",
      "execution_count": null,
      "id": "d84c8bd1",
      "metadata": {
        "id": "d84c8bd1",
        "outputId": "91c7a101-4e79-44ed-ac38-ea34b2e06da1"
      },
      "outputs": [
        {
          "data": {
            "image/png": "[encoded data removed]",
            "text/plain": [
              "<Figure size 720x360 with 1 Axes>"
            ]
          },
          "metadata": {
            "needs_background": "light"
          },
          "output_type": "display_data"
        }
      ],
      "source": [
        "visualization(df_churn_exited, df_churn_not_exited, \"Tenure\")"
      ]
    },
    {
      "cell_type": "code",
      "execution_count": null,
      "id": "068a1a3e",
      "metadata": {
        "id": "068a1a3e"
      },
      "outputs": [],
      "source": [
        "df_churn_exited2 = df[df['Exited']==1]['Age']\n",
        "df_churn_not_exited2 = df[df['Exited']==0]['Age']"
      ]
    },
    {
      "cell_type": "code",
      "execution_count": null,
      "id": "9c4b03a8",
      "metadata": {
        "id": "9c4b03a8",
        "outputId": "3650a2fb-8186-414c-dd10-4838ea653098"
      },
      "outputs": [
        {
          "data": {
            "image/png": "[encoded data removed]",
            "text/plain": [
              "<Figure size 720x360 with 1 Axes>"
            ]
          },
          "metadata": {
            "needs_background": "light"
          },
          "output_type": "display_data"
        }
      ],
      "source": [
        "visualization(df_churn_exited2, df_churn_not_exited2, \"Age\")"
      ]
    },
    {
      "cell_type": "markdown",
      "id": "cd5a1362",
      "metadata": {
        "id": "cd5a1362"
      },
      "source": [
        "# Converting the Categorical Variables"
      ]
    },
    {
      "cell_type": "code",
      "execution_count": null,
      "id": "4990b0a7",
      "metadata": {
        "id": "4990b0a7"
      },
      "outputs": [],
      "source": [
        "X = df[['CreditScore','Gender','Age','Tenure','Balance','NumOfProducts','HasCrCard','IsActiveMember','EstimatedSalary']]\n",
        "states = pd.get_dummies(df['Geography'],drop_first = True)\n",
        "gender = pd.get_dummies(df['Gender'],drop_first = True)"
      ]
    },
    {
      "cell_type": "code",
      "execution_count": null,
      "id": "2aa73c92",
      "metadata": {
        "id": "2aa73c92"
      },
      "outputs": [],
      "source": [
        "\n",
        "df = pd.concat([df,gender,states], axis = 1)"
      ]
    },
    {
      "cell_type": "markdown",
      "id": "9840f548",
      "metadata": {
        "id": "9840f548"
      },
      "source": [
        "# Splitting the training and testing Dataset"
      ]
    },
    {
      "cell_type": "code",
      "execution_count": null,
      "id": "8a684704",
      "metadata": {
        "id": "8a684704",
        "outputId": "662871fe-444f-497e-e8f1-20bac52803a5"
      },
      "outputs": [
        {
          "data": {
            "text/html": [
              "<div>\n",
              "<style scoped>\n",
              "    .dataframe tbody tr th:only-of-type {\n",
              "        vertical-align: middle;\n",
              "    }\n",
              "\n",
              "    .dataframe tbody tr th {\n",
              "        vertical-align: top;\n",
              "    }\n",
              "\n",
              "    .dataframe thead th {\n",
              "        text-align: right;\n",
              "    }\n",
              "</style>\n",
              "<table border=\"1\" class=\"dataframe\">\n",
              "  <thead>\n",
              "    <tr style=\"text-align: right;\">\n",
              "      <th></th>\n",
              "      <th>CreditScore</th>\n",
              "      <th>Geography</th>\n",
              "      <th>Gender</th>\n",
              "      <th>Age</th>\n",
              "      <th>Tenure</th>\n",
              "      <th>Balance</th>\n",
              "      <th>NumOfProducts</th>\n",
              "      <th>HasCrCard</th>\n",
              "      <th>IsActiveMember</th>\n",
              "      <th>EstimatedSalary</th>\n",
              "      <th>Exited</th>\n",
              "      <th>Male</th>\n",
              "      <th>Germany</th>\n",
              "      <th>Spain</th>\n",
              "    </tr>\n",
              "  </thead>\n",
              "  <tbody>\n",
              "    <tr>\n",
              "      <th>0</th>\n",
              "      <td>619</td>\n",
              "      <td>France</td>\n",
              "      <td>Female</td>\n",
              "      <td>42</td>\n",
              "      <td>2</td>\n",
              "      <td>0.00</td>\n",
              "      <td>1</td>\n",
              "      <td>1</td>\n",
              "      <td>1</td>\n",
              "      <td>101348.88</td>\n",
              "      <td>1</td>\n",
              "      <td>0</td>\n",
              "      <td>0</td>\n",
              "      <td>0</td>\n",
              "    </tr>\n",
              "    <tr>\n",
              "      <th>1</th>\n",
              "      <td>608</td>\n",
              "      <td>Spain</td>\n",
              "      <td>Female</td>\n",
              "      <td>41</td>\n",
              "      <td>1</td>\n",
              "      <td>83807.86</td>\n",
              "      <td>1</td>\n",
              "      <td>0</td>\n",
              "      <td>1</td>\n",
              "      <td>112542.58</td>\n",
              "      <td>0</td>\n",
              "      <td>0</td>\n",
              "      <td>0</td>\n",
              "      <td>1</td>\n",
              "    </tr>\n",
              "    <tr>\n",
              "      <th>2</th>\n",
              "      <td>502</td>\n",
              "      <td>France</td>\n",
              "      <td>Female</td>\n",
              "      <td>42</td>\n",
              "      <td>8</td>\n",
              "      <td>159660.80</td>\n",
              "      <td>3</td>\n",
              "      <td>1</td>\n",
              "      <td>0</td>\n",
              "      <td>113931.57</td>\n",
              "      <td>1</td>\n",
              "      <td>0</td>\n",
              "      <td>0</td>\n",
              "      <td>0</td>\n",
              "    </tr>\n",
              "    <tr>\n",
              "      <th>3</th>\n",
              "      <td>699</td>\n",
              "      <td>France</td>\n",
              "      <td>Female</td>\n",
              "      <td>39</td>\n",
              "      <td>1</td>\n",
              "      <td>0.00</td>\n",
              "      <td>2</td>\n",
              "      <td>0</td>\n",
              "      <td>0</td>\n",
              "      <td>93826.63</td>\n",
              "      <td>0</td>\n",
              "      <td>0</td>\n",
              "      <td>0</td>\n",
              "      <td>0</td>\n",
              "    </tr>\n",
              "    <tr>\n",
              "      <th>4</th>\n",
              "      <td>850</td>\n",
              "      <td>Spain</td>\n",
              "      <td>Female</td>\n",
              "      <td>43</td>\n",
              "      <td>2</td>\n",
              "      <td>125510.82</td>\n",
              "      <td>1</td>\n",
              "      <td>1</td>\n",
              "      <td>1</td>\n",
              "      <td>79084.10</td>\n",
              "      <td>0</td>\n",
              "      <td>0</td>\n",
              "      <td>0</td>\n",
              "      <td>1</td>\n",
              "    </tr>\n",
              "  </tbody>\n",
              "</table>\n",
              "</div>"
            ],
            "text/plain": [
              "   CreditScore Geography  Gender  Age  Tenure    Balance  NumOfProducts  \\\n",
              "0          619    France  Female   42       2       0.00              1   \n",
              "1          608     Spain  Female   41       1   83807.86              1   \n",
              "2          502    France  Female   42       8  159660.80              3   \n",
              "3          699    France  Female   39       1       0.00              2   \n",
              "4          850     Spain  Female   43       2  125510.82              1   \n",
              "\n",
              "   HasCrCard  IsActiveMember  EstimatedSalary  Exited  Male  Germany  Spain  \n",
              "0          1               1        101348.88       1     0        0      0  \n",
              "1          0               1        112542.58       0     0        0      1  \n",
              "2          1               0        113931.57       1     0        0      0  \n",
              "3          0               0         93826.63       0     0        0      0  \n",
              "4          1               1         79084.10       0     0        0      1  "
            ]
          },
          "execution_count": 62,
          "metadata": {},
          "output_type": "execute_result"
        }
      ],
      "source": [
        "df.head()"
      ]
    },
    {
      "cell_type": "code",
      "execution_count": null,
      "id": "c7773473",
      "metadata": {
        "id": "c7773473"
      },
      "outputs": [],
      "source": [
        "X = df[['CreditScore','Age','Tenure','Balance','NumOfProducts','HasCrCard','IsActiveMember','EstimatedSalary','Male','Germany','Spain']]"
      ]
    },
    {
      "cell_type": "code",
      "execution_count": null,
      "id": "eaf134ac",
      "metadata": {
        "id": "eaf134ac"
      },
      "outputs": [],
      "source": [
        "y = df['Exited']"
      ]
    },
    {
      "cell_type": "code",
      "execution_count": null,
      "id": "356bb0be",
      "metadata": {
        "id": "356bb0be"
      },
      "outputs": [],
      "source": [
        "from sklearn.model_selection import train_test_split\n",
        "X_train,X_test,y_train,y_test = train_test_split(X,y,test_size = 0.30)"
      ]
    },
    {
      "cell_type": "markdown",
      "id": "3f57ac21",
      "metadata": {
        "id": "3f57ac21"
      },
      "source": [
        "# Normalizing the values with mean as 0 and Standard Deviation as 1"
      ]
    },
    {
      "cell_type": "code",
      "execution_count": null,
      "id": "5ec5fe2a",
      "metadata": {
        "id": "5ec5fe2a"
      },
      "outputs": [],
      "source": [
        "from sklearn.preprocessing import StandardScaler\n",
        "sc = StandardScaler()"
      ]
    },
    {
      "cell_type": "code",
      "execution_count": null,
      "id": "5660c8ea",
      "metadata": {
        "id": "5660c8ea"
      },
      "outputs": [],
      "source": [
        "X_train  = sc.fit_transform(X_train)\n",
        "X_test = sc.transform(X_test)"
      ]
    },
    {
      "cell_type": "code",
      "execution_count": null,
      "id": "8ff66916",
      "metadata": {
        "id": "8ff66916",
        "outputId": "7cd63403-0e3d-4898-8955-fbd31d83abab"
      },
      "outputs": [
        {
          "data": {
            "text/plain": [
              "array([[ 4.56838557e-01, -9.45594735e-01,  1.58341939e-03, ...,\n",
              "         9.13181783e-01, -5.81969145e-01, -5.73611200e-01],\n",
              "       [-2.07591864e-02, -2.77416637e-01,  3.47956411e-01, ...,\n",
              "        -1.09507222e+00, -5.81969145e-01,  1.74334114e+00],\n",
              "       [-1.66115021e-01,  1.82257167e+00, -1.38390855e+00, ...,\n",
              "        -1.09507222e+00, -5.81969145e-01, -5.73611200e-01],\n",
              "       ...,\n",
              "       [-3.63383654e-01, -4.68324665e-01,  1.73344838e+00, ...,\n",
              "         9.13181783e-01, -5.81969145e-01, -5.73611200e-01],\n",
              "       [ 4.67221117e-01, -1.42286480e+00,  1.38707539e+00, ...,\n",
              "         9.13181783e-01, -5.81969145e-01,  1.74334114e+00],\n",
              "       [-8.82511636e-01,  2.95307447e-01, -6.91162564e-01, ...,\n",
              "         9.13181783e-01, -5.81969145e-01, -5.73611200e-01]])"
            ]
          },
          "execution_count": 68,
          "metadata": {},
          "output_type": "execute_result"
        }
      ],
      "source": [
        "X_train"
      ]
    },
    {
      "cell_type": "code",
      "execution_count": null,
      "id": "000dfb2c",
      "metadata": {
        "id": "000dfb2c",
        "outputId": "52e9eb3e-7043-438d-f3bf-c1a47d695db7"
      },
      "outputs": [
        {
          "data": {
            "text/plain": [
              "array([[ 3.63395520e-01,  1.99853433e-01,  1.58341939e-03, ...,\n",
              "         9.13181783e-01, -5.81969145e-01, -5.73611200e-01],\n",
              "       [-4.15243057e-02,  4.86215475e-01,  1.58341939e-03, ...,\n",
              "        -1.09507222e+00, -5.81969145e-01,  1.74334114e+00],\n",
              "       [-1.87923736e+00, -3.72870651e-01, -1.38390855e+00, ...,\n",
              "         9.13181783e-01, -5.81969145e-01, -5.73611200e-01],\n",
              "       ...,\n",
              "       [-6.02182526e-01, -5.63778679e-01, -1.73028154e+00, ...,\n",
              "        -1.09507222e+00, -5.81969145e-01, -5.73611200e-01],\n",
              "       [ 1.51585964e+00, -6.59232693e-01,  1.73344838e+00, ...,\n",
              "         9.13181783e-01, -5.81969145e-01, -5.73611200e-01],\n",
              "       [-5.19122049e-01,  1.04399419e-01,  1.73344838e+00, ...,\n",
              "         9.13181783e-01, -5.81969145e-01, -5.73611200e-01]])"
            ]
          },
          "execution_count": 69,
          "metadata": {},
          "output_type": "execute_result"
        }
      ],
      "source": [
        "X_test"
      ]
    },
    {
      "cell_type": "markdown",
      "id": "28bb6477",
      "metadata": {
        "id": "28bb6477"
      },
      "source": [
        "# Building the Classifier Model using Keras"
      ]
    },
    {
      "cell_type": "code",
      "execution_count": null,
      "id": "28a7bc7a",
      "metadata": {
        "id": "28a7bc7a"
      },
      "outputs": [],
      "source": [
        "import keras #Keras is the wrapper on the top of tenserflow\n",
        "#Can use Tenserflow as well but won't be able to understand the errors initially."
      ]
    },
    {
      "cell_type": "code",
      "execution_count": null,
      "id": "63ce4558",
      "metadata": {
        "id": "63ce4558"
      },
      "outputs": [],
      "source": [
        "from keras.models import Sequential #To create sequential neural network\n",
        "from keras.layers import Dense #To create hidden layers"
      ]
    },
    {
      "cell_type": "code",
      "execution_count": null,
      "id": "a0a9697f",
      "metadata": {
        "id": "a0a9697f"
      },
      "outputs": [],
      "source": [
        "classifier = Sequential()"
      ]
    },
    {
      "cell_type": "code",
      "execution_count": null,
      "id": "ba1ddc28",
      "metadata": {
        "id": "ba1ddc28"
      },
      "outputs": [],
      "source": [
        "#To add the layers\n",
        "#Dense helps to contruct the neurons\n",
        "#Input Dimension means we have 11 features\n",
        "# Units is to create the hidden layers\n",
        "#Uniform helps to distribute the weight uniformly\n",
        "classifier.add(Dense(activation = \"relu\",input_dim = 11,units = 6,kernel_initializer = \"uniform\"))"
      ]
    },
    {
      "cell_type": "code",
      "execution_count": null,
      "id": "7097043e",
      "metadata": {
        "id": "7097043e"
      },
      "outputs": [],
      "source": [
        "classifier.add(Dense(activation = \"relu\",units = 6,kernel_initializer = \"uniform\"))   #Adding second hidden layers"
      ]
    },
    {
      "cell_type": "code",
      "execution_count": null,
      "id": "e57ac0e3",
      "metadata": {
        "id": "e57ac0e3"
      },
      "outputs": [],
      "source": [
        "classifier.add(Dense(activation = \"sigmoid\",units = 1,kernel_initializer = \"uniform\")) #Final neuron will be having siigmoid function"
      ]
    },
    {
      "cell_type": "code",
      "execution_count": null,
      "id": "6ae0211d",
      "metadata": {
        "id": "6ae0211d"
      },
      "outputs": [],
      "source": [
        "classifier.compile(optimizer=\"adam\",loss = 'binary_crossentropy',metrics = ['accuracy']) #To compile the Artificial Neural Network. Ussed Binary crossentropy as we just have only two output"
      ]
    },
    {
      "cell_type": "code",
      "execution_count": null,
      "id": "8a8586b3",
      "metadata": {
        "id": "8a8586b3",
        "outputId": "a8a5d7aa-039f-42be-c257-12942988c1e3"
      },
      "outputs": [
        {
          "name": "stdout",
          "output_type": "stream",
          "text": [
            "Model: \"sequential_1\"\n",
            "_________________________________________________________________\n",
            "Layer (type)                 Output Shape              Param #   \n",
            "=================================================================\n",
            "dense_3 (Dense)              (None, 6)                 72        \n",
            "_________________________________________________________________\n",
            "dense_4 (Dense)              (None, 6)                 42        \n",
            "_________________________________________________________________\n",
            "dense_5 (Dense)              (None, 1)                 7         \n",
            "=================================================================\n",
            "Total params: 121\n",
            "Trainable params: 121\n",
            "Non-trainable params: 0\n",
            "_________________________________________________________________\n"
          ]
        }
      ],
      "source": [
        "classifier.summary() #3 layers created. 6 neurons in 1st,6neurons in 2nd layer and 1 neuron in last"
      ]
    },
    {
      "cell_type": "code",
      "execution_count": null,
      "id": "ae89f97c",
      "metadata": {
        "id": "ae89f97c",
        "outputId": "d4f8a5b9-93c0-4960-af6a-24e8d27f5cc2"
      },
      "outputs": [
        {
          "name": "stdout",
          "output_type": "stream",
          "text": [
            "Epoch 1/50\n",
            "700/700 [==============================] - 0s 674us/step - loss: 0.4293 - accuracy: 0.7947\n",
            "Epoch 2/50\n",
            "700/700 [==============================] - 0s 647us/step - loss: 0.4239 - accuracy: 0.7947\n",
            "Epoch 3/50\n",
            "700/700 [==============================] - 0s 657us/step - loss: 0.4203 - accuracy: 0.8067\n",
            "Epoch 4/50\n",
            "700/700 [==============================] - 0s 664us/step - loss: 0.4167 - accuracy: 0.8260\n",
            "Epoch 5/50\n",
            "700/700 [==============================] - 0s 674us/step - loss: 0.4153 - accuracy: 0.8287\n",
            "Epoch 6/50\n",
            "700/700 [==============================] - 0s 653us/step - loss: 0.4137 - accuracy: 0.8310\n",
            "Epoch 7/50\n",
            "700/700 [==============================] - 0s 658us/step - loss: 0.4125 - accuracy: 0.8317\n",
            "Epoch 8/50\n",
            "700/700 [==============================] - 1s 842us/step - loss: 0.4116 - accuracy: 0.8306\n",
            "Epoch 9/50\n",
            "700/700 [==============================] - 0s 671us/step - loss: 0.4103 - accuracy: 0.8331\n",
            "Epoch 10/50\n",
            "700/700 [==============================] - 0s 682us/step - loss: 0.4100 - accuracy: 0.8326\n",
            "Epoch 11/50\n",
            "700/700 [==============================] - 0s 690us/step - loss: 0.4093 - accuracy: 0.8337\n",
            "Epoch 12/50\n",
            "700/700 [==============================] - 0s 688us/step - loss: 0.4087 - accuracy: 0.8339\n",
            "Epoch 13/50\n",
            "700/700 [==============================] - 0s 675us/step - loss: 0.4081 - accuracy: 0.8341\n",
            "Epoch 14/50\n",
            "700/700 [==============================] - 1s 722us/step - loss: 0.4071 - accuracy: 0.8331\n",
            "Epoch 15/50\n",
            "700/700 [==============================] - 1s 811us/step - loss: 0.4065 - accuracy: 0.8341\n",
            "Epoch 16/50\n",
            "700/700 [==============================] - 0s 711us/step - loss: 0.4056 - accuracy: 0.8356\n",
            "Epoch 17/50\n",
            "700/700 [==============================] - 0s 702us/step - loss: 0.4046 - accuracy: 0.8366\n",
            "Epoch 18/50\n",
            "700/700 [==============================] - 0s 688us/step - loss: 0.4035 - accuracy: 0.8343\n",
            "Epoch 19/50\n",
            "700/700 [==============================] - 1s 715us/step - loss: 0.4024 - accuracy: 0.8363\n",
            "Epoch 20/50\n",
            "700/700 [==============================] - 0s 714us/step - loss: 0.4020 - accuracy: 0.8337\n",
            "Epoch 21/50\n",
            "700/700 [==============================] - 0s 705us/step - loss: 0.4010 - accuracy: 0.8374\n",
            "Epoch 22/50\n",
            "700/700 [==============================] - 1s 720us/step - loss: 0.4003 - accuracy: 0.8370\n",
            "Epoch 23/50\n",
            "700/700 [==============================] - 0s 692us/step - loss: 0.3993 - accuracy: 0.8374\n",
            "Epoch 24/50\n",
            "700/700 [==============================] - 0s 709us/step - loss: 0.3990 - accuracy: 0.8356\n",
            "Epoch 25/50\n",
            "700/700 [==============================] - 1s 871us/step - loss: 0.3984 - accuracy: 0.8366\n",
            "Epoch 26/50\n",
            "700/700 [==============================] - 1s 719us/step - loss: 0.3984 - accuracy: 0.8367\n",
            "Epoch 27/50\n",
            "700/700 [==============================] - 1s 719us/step - loss: 0.3980 - accuracy: 0.8366\n",
            "Epoch 28/50\n",
            "700/700 [==============================] - 0s 695us/step - loss: 0.3981 - accuracy: 0.8366\n",
            "Epoch 29/50\n",
            "700/700 [==============================] - 0s 667us/step - loss: 0.3976 - accuracy: 0.8374\n",
            "Epoch 30/50\n",
            "700/700 [==============================] - 0s 669us/step - loss: 0.3972 - accuracy: 0.8373\n",
            "Epoch 31/50\n",
            "700/700 [==============================] - 0s 670us/step - loss: 0.3970 - accuracy: 0.8370\n",
            "Epoch 32/50\n",
            "700/700 [==============================] - 1s 720us/step - loss: 0.3972 - accuracy: 0.8376\n",
            "Epoch 33/50\n",
            "700/700 [==============================] - 0s 675us/step - loss: 0.3965 - accuracy: 0.8367\n",
            "Epoch 34/50\n",
            "700/700 [==============================] - 0s 680us/step - loss: 0.3961 - accuracy: 0.8364\n",
            "Epoch 35/50\n",
            "700/700 [==============================] - 0s 685us/step - loss: 0.3962 - accuracy: 0.8379\n",
            "Epoch 36/50\n",
            "700/700 [==============================] - 1s 771us/step - loss: 0.3960 - accuracy: 0.8370\n",
            "Epoch 37/50\n",
            "700/700 [==============================] - 1s 1ms/step - loss: 0.3963 - accuracy: 0.8366\n",
            "Epoch 38/50\n",
            "700/700 [==============================] - 1s 764us/step - loss: 0.3962 - accuracy: 0.8373\n",
            "Epoch 39/50\n",
            "700/700 [==============================] - 1s 823us/step - loss: 0.3950 - accuracy: 0.8384\n",
            "Epoch 40/50\n",
            "700/700 [==============================] - 1s 759us/step - loss: 0.3956 - accuracy: 0.8361\n",
            "Epoch 41/50\n",
            "700/700 [==============================] - 1s 773us/step - loss: 0.3949 - accuracy: 0.8366\n",
            "Epoch 42/50\n",
            "700/700 [==============================] - 0s 695us/step - loss: 0.3953 - accuracy: 0.8369\n",
            "Epoch 43/50\n",
            "700/700 [==============================] - 0s 701us/step - loss: 0.3952 - accuracy: 0.8369\n",
            "Epoch 44/50\n",
            "700/700 [==============================] - 0s 707us/step - loss: 0.3952 - accuracy: 0.8366\n",
            "Epoch 45/50\n",
            "700/700 [==============================] - 0s 680us/step - loss: 0.3955 - accuracy: 0.8376\n",
            "Epoch 46/50\n",
            "700/700 [==============================] - 0s 665us/step - loss: 0.3947 - accuracy: 0.8373\n",
            "Epoch 47/50\n",
            "700/700 [==============================] - 0s 708us/step - loss: 0.3947 - accuracy: 0.8371\n",
            "Epoch 48/50\n",
            "700/700 [==============================] - 0s 681us/step - loss: 0.3944 - accuracy: 0.8371\n",
            "Epoch 49/50\n",
            "700/700 [==============================] - 0s 678us/step - loss: 0.3947 - accuracy: 0.8383\n",
            "Epoch 50/50\n",
            "700/700 [==============================] - 1s 869us/step - loss: 0.3944 - accuracy: 0.8370\n"
          ]
        },
        {
          "data": {
            "text/plain": [
              "<tensorflow.python.keras.callbacks.History at 0x1fb1eb93df0>"
            ]
          },
          "execution_count": 89,
          "metadata": {},
          "output_type": "execute_result"
        }
      ],
      "source": [
        "classifier.fit(X_train,y_train,batch_size=10,epochs=50) #Fitting the ANN to training dataset"
      ]
    },
    {
      "cell_type": "code",
      "execution_count": null,
      "id": "425a7f07",
      "metadata": {
        "id": "425a7f07"
      },
      "outputs": [],
      "source": [
        "y_pred =classifier.predict(X_test)\n",
        "y_pred = (y_pred > 0.5) #Predicting the result"
      ]
    },
    {
      "cell_type": "code",
      "execution_count": null,
      "id": "8e9c2742",
      "metadata": {
        "id": "8e9c2742"
      },
      "outputs": [],
      "source": [
        "from sklearn.metrics import confusion_matrix,accuracy_score,classification_report"
      ]
    },
    {
      "cell_type": "code",
      "execution_count": null,
      "id": "8449c9fb",
      "metadata": {
        "id": "8449c9fb"
      },
      "outputs": [],
      "source": [
        "cm = confusion_matrix(y_test,y_pred)"
      ]
    },
    {
      "cell_type": "code",
      "execution_count": null,
      "id": "0f1cbc0d",
      "metadata": {
        "id": "0f1cbc0d",
        "outputId": "b6b03443-ed60-4b09-d36d-01fc52cb3c37"
      },
      "outputs": [
        {
          "data": {
            "text/plain": [
              "array([[2328,   72],\n",
              "       [ 425,  175]], dtype=int64)"
            ]
          },
          "execution_count": 93,
          "metadata": {},
          "output_type": "execute_result"
        }
      ],
      "source": [
        "cm"
      ]
    },
    {
      "cell_type": "code",
      "execution_count": null,
      "id": "5e08bb26",
      "metadata": {
        "id": "5e08bb26"
      },
      "outputs": [],
      "source": [
        "accuracy = accuracy_score(y_test,y_pred)"
      ]
    },
    {
      "cell_type": "code",
      "execution_count": null,
      "id": "46799eb2",
      "metadata": {
        "id": "46799eb2",
        "outputId": "96283708-5002-42a9-a8e1-d3e17a8c3c27"
      },
      "outputs": [
        {
          "data": {
            "text/plain": [
              "0.8343333333333334"
            ]
          },
          "execution_count": 95,
          "metadata": {},
          "output_type": "execute_result"
        }
      ],
      "source": [
        "accuracy"
      ]
    },
    {
      "cell_type": "code",
      "execution_count": null,
      "id": "ced868a2",
      "metadata": {
        "id": "ced868a2",
        "outputId": "f50a7f55-d4e9-4d93-d5c7-6d76a215c24e"
      },
      "outputs": [
        {
          "data": {
            "text/plain": [
              "Text(69.0, 0.5, 'Truth')"
            ]
          },
          "execution_count": 98,
          "metadata": {},
          "output_type": "execute_result"
        },
        {
          "data": {
            "image/png": "[encoded data removed]",
            "text/plain": [
              "<Figure size 720x504 with 2 Axes>"
            ]
          },
          "metadata": {
            "needs_background": "light"
          },
          "output_type": "display_data"
        }
      ],
      "source": [
        "plt.figure(figsize = (10,7))\n",
        "sns.heatmap(cm,annot = True)\n",
        "plt.xlabel('Predicted')\n",
        "plt.ylabel('Truth')"
      ]
    },
    {
      "cell_type": "code",
      "execution_count": null,
      "id": "51fedf33",
      "metadata": {
        "id": "51fedf33",
        "outputId": "97d83f40-d184-4488-c890-fe3859a243ff"
      },
      "outputs": [
        {
          "name": "stdout",
          "output_type": "stream",
          "text": [
            "              precision    recall  f1-score   support\n",
            "\n",
            "           0       0.85      0.97      0.90      2400\n",
            "           1       0.71      0.29      0.41       600\n",
            "\n",
            "    accuracy                           0.83      3000\n",
            "   macro avg       0.78      0.63      0.66      3000\n",
            "weighted avg       0.82      0.83      0.81      3000\n",
            "\n"
          ]
        }
      ],
      "source": [
        "print(classification_report(y_test,y_pred))"
      ]
    },
    {
      "cell_type": "code",
      "execution_count": null,
      "id": "82a4cc31",
      "metadata": {
        "id": "82a4cc31"
      },
      "outputs": [],
      "source": []
    }
  ],
  "metadata": {
    "kernelspec": {
      "display_name": "Python 3",
      "language": "python",
      "name": "python3"
    },
    "language_info": {
      "codemirror_mode": {
        "name": "ipython",
        "version": 3
      },
      "file_extension": ".py",
      "mimetype": "text/x-python",
      "name": "python",
      "nbconvert_exporter": "python",
      "pygments_lexer": "ipython3",
      "version": "3.8.8"
    },
    "colab": {
      "provenance": []
    }
  },
  "nbformat": 4,
  "nbformat_minor": 5
}